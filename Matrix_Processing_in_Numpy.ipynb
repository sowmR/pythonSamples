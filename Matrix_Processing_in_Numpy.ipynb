{
  "nbformat": 4,
  "nbformat_minor": 0,
  "metadata": {
    "colab": {
      "name": "Matrix Processing in Numpy.ipynb",
      "provenance": [],
      "authorship_tag": "ABX9TyNbB9BwjkY1sm0m12dZM/0o",
      "include_colab_link": true
    },
    "kernelspec": {
      "name": "python3",
      "display_name": "Python 3"
    },
    "language_info": {
      "name": "python"
    }
  },
  "cells": [
    {
      "cell_type": "markdown",
      "metadata": {
        "id": "view-in-github",
        "colab_type": "text"
      },
      "source": [
        "<a href=\"https://colab.research.google.com/github/sowmR/pythonSamples/blob/main/Matrix_Processing_in_Numpy.ipynb\" target=\"_parent\"><img src=\"https://colab.research.google.com/assets/colab-badge.svg\" alt=\"Open In Colab\"/></a>"
      ]
    },
    {
      "cell_type": "code",
      "metadata": {
        "id": "MmY_kPG1ipJO"
      },
      "source": [
        "import numpy as np"
      ],
      "execution_count": 2,
      "outputs": []
    },
    {
      "cell_type": "code",
      "metadata": {
        "id": "WB1lCvK-i3_h"
      },
      "source": [
        "m1 = [[1,2,3],[3,4,5]]\n",
        "m2 = [[2,5],[2,3]]\n",
        "m3 = [[3,7,2],[9,14,2]]"
      ],
      "execution_count": null,
      "outputs": []
    },
    {
      "cell_type": "markdown",
      "metadata": {
        "id": "dXoOD8xwj5ky"
      },
      "source": [
        "### Arithmetic operations\n",
        "\n",
        "For the Arithmetic operations both matrix/array should be of same shape.\n",
        "\n",
        "Trying to perform arithmetic operation between two matrix of different shape will return error.\n",
        "Example: adding 2x3 matrix with 2x2 matrix will return error.\n"
      ]
    },
    {
      "cell_type": "code",
      "metadata": {
        "colab": {
          "base_uri": "https://localhost:8080/"
        },
        "id": "J4rh7sGdi7qo",
        "outputId": "537d740d-c9e3-4eb5-aa52-038bc313e029"
      },
      "source": [
        "# Matrix addition \n",
        "m4 = np.add(m1,m3)\n",
        "print(m4)"
      ],
      "execution_count": null,
      "outputs": [
        {
          "output_type": "stream",
          "name": "stdout",
          "text": [
            "[[ 4  9  5]\n",
            " [12 18  7]]\n"
          ]
        }
      ]
    },
    {
      "cell_type": "code",
      "metadata": {
        "colab": {
          "base_uri": "https://localhost:8080/"
        },
        "id": "yhlognOHjZjg",
        "outputId": "2fd38bb6-c607-4d05-8f0f-c843f8389042"
      },
      "source": [
        "# Matrix Subtraction\n",
        "m4 = np.subtract(m1,m3)\n",
        "m4"
      ],
      "execution_count": null,
      "outputs": [
        {
          "output_type": "execute_result",
          "data": {
            "text/plain": [
              "array([[ -2,  -5,   1],\n",
              "       [ -6, -10,   3]])"
            ]
          },
          "metadata": {},
          "execution_count": 4
        }
      ]
    },
    {
      "cell_type": "code",
      "metadata": {
        "colab": {
          "base_uri": "https://localhost:8080/"
        },
        "id": "NF3T_umrjmKW",
        "outputId": "d506471f-77de-461d-d439-c7a2f698a03f"
      },
      "source": [
        "# matrix Multiplication\n",
        "print(np.multiply(m1,m3))\n"
      ],
      "execution_count": null,
      "outputs": [
        {
          "output_type": "stream",
          "name": "stdout",
          "text": [
            "[[ 3 14  6]\n",
            " [27 56 10]]\n"
          ]
        }
      ]
    },
    {
      "cell_type": "code",
      "metadata": {
        "colab": {
          "base_uri": "https://localhost:8080/",
          "height": 182
        },
        "id": "97mcxXAGjyH2",
        "outputId": "746bcb14-d436-44a5-d54e-825ab978f28a"
      },
      "source": [
        "# trying to multiply two different matrix size.  When multiplying aXb with cXd matrix, it is important that b=c. Otherwise it will throw error\n",
        "print(np.multiply(m1,m2))"
      ],
      "execution_count": null,
      "outputs": [
        {
          "output_type": "error",
          "ename": "ValueError",
          "evalue": "ignored",
          "traceback": [
            "\u001b[0;31m---------------------------------------------------------------------------\u001b[0m",
            "\u001b[0;31mValueError\u001b[0m                                Traceback (most recent call last)",
            "\u001b[0;32m<ipython-input-6-3690e4f5cf6a>\u001b[0m in \u001b[0;36m<module>\u001b[0;34m()\u001b[0m\n\u001b[1;32m      1\u001b[0m \u001b[0;31m# trying to multiply two different matrix size\u001b[0m\u001b[0;34m\u001b[0m\u001b[0;34m\u001b[0m\u001b[0;34m\u001b[0m\u001b[0m\n\u001b[0;32m----> 2\u001b[0;31m \u001b[0mprint\u001b[0m\u001b[0;34m(\u001b[0m\u001b[0mnp\u001b[0m\u001b[0;34m.\u001b[0m\u001b[0mmultiply\u001b[0m\u001b[0;34m(\u001b[0m\u001b[0mm1\u001b[0m\u001b[0;34m,\u001b[0m\u001b[0mm2\u001b[0m\u001b[0;34m)\u001b[0m\u001b[0;34m)\u001b[0m\u001b[0;34m\u001b[0m\u001b[0;34m\u001b[0m\u001b[0m\n\u001b[0m",
            "\u001b[0;31mValueError\u001b[0m: operands could not be broadcast together with shapes (2,3) (2,2) "
          ]
        }
      ]
    },
    {
      "cell_type": "markdown",
      "source": [
        "### Difference between np.multiply and dot product\n",
        "\n",
        "m1 = \n",
        "      \n",
        "      [a b\n",
        "\n",
        "      c d]\n",
        "\n",
        "m2 = \n",
        "      \n",
        "      [e f\n",
        "\n",
        "      g h]\n",
        "\n",
        "\n",
        "np.multiply(m1,m2) => \n",
        "   \n",
        "                      [a*e  b*f\n",
        "    \n",
        "                       c*g   d*h]\n",
        "\n",
        "m1.dot(m2) => \n",
        "\n",
        "            [a*e+b*g    a*f+b*h\n",
        "\n",
        "             c*e+c*g    c*f+c*h]\n",
        "\n",
        "\n"
      ],
      "metadata": {
        "id": "GIC3O9sZi1Hm"
      }
    },
    {
      "cell_type": "code",
      "metadata": {
        "id": "oOrkjU8Kj2ON",
        "colab": {
          "base_uri": "https://localhost:8080/"
        },
        "outputId": "6132ed68-1a9e-420c-ac34-22f457221979"
      },
      "source": [
        "m1 = [[2,3],[3,1]]\n",
        "m2 = [[1,3],[4,5]]\n",
        "print(np.multiply(m1,m2))\n",
        "print(np.array(m1).dot(np.array(m2)))"
      ],
      "execution_count": null,
      "outputs": [
        {
          "output_type": "stream",
          "name": "stdout",
          "text": [
            "[[ 2  9]\n",
            " [12  5]]\n",
            "[[14 21]\n",
            " [ 7 14]]\n"
          ]
        }
      ]
    },
    {
      "cell_type": "code",
      "source": [
        "# matmul is same as dot product\n",
        "np.matmul(m1,m2)"
      ],
      "metadata": {
        "id": "KskwEn1OtJGb",
        "outputId": "2b35ac6a-0c21-40e1-f949-c65ad19c8da1",
        "colab": {
          "base_uri": "https://localhost:8080/"
        }
      },
      "execution_count": null,
      "outputs": [
        {
          "output_type": "execute_result",
          "data": {
            "text/plain": [
              "array([[14, 21],\n",
              "       [ 7, 14]])"
            ]
          },
          "metadata": {},
          "execution_count": 35
        }
      ]
    },
    {
      "cell_type": "markdown",
      "source": [
        "### hstack, vstack\n",
        "\n",
        "**Note**: \n",
        "\n",
        "- hstack between two matrix should have same number of rows\n",
        "- vstack between two matrix should have same number of columns\n"
      ],
      "metadata": {
        "id": "f1Mv_82KnSZK"
      }
    },
    {
      "cell_type": "code",
      "source": [
        "a = [1,2,3]\n",
        "b = [4,5,6]\n",
        "print(np.hstack((a,b)))\n",
        "print(np.vstack((a,b)))"
      ],
      "metadata": {
        "id": "yEDIunJ6ikNm",
        "colab": {
          "base_uri": "https://localhost:8080/"
        },
        "outputId": "66336a4a-f0f6-476e-d0d1-0fa6cb74c243"
      },
      "execution_count": null,
      "outputs": [
        {
          "output_type": "stream",
          "name": "stdout",
          "text": [
            "[1 2 3 4 5 6]\n",
            "[[1 2 3]\n",
            " [4 5 6]]\n"
          ]
        }
      ]
    },
    {
      "cell_type": "code",
      "source": [
        "a = [[1,2],[2,3]]\n",
        "b = [[4,5],[5,6]]\n",
        "print(np.hstack((a,b)))\n",
        "print(np.vstack((a,b)))"
      ],
      "metadata": {
        "colab": {
          "base_uri": "https://localhost:8080/"
        },
        "id": "vgc-bC5ZncqE",
        "outputId": "15ef388a-a3cc-4fed-b455-0ec0253320a6"
      },
      "execution_count": null,
      "outputs": [
        {
          "output_type": "stream",
          "name": "stdout",
          "text": [
            "[[1 2 4 5]\n",
            " [2 3 5 6]]\n",
            "[[1 2]\n",
            " [2 3]\n",
            " [4 5]\n",
            " [5 6]]\n"
          ]
        }
      ]
    },
    {
      "cell_type": "code",
      "source": [
        "a = [[1,2],[2,3]]\n",
        "b = [4,5]\n",
        "\n",
        "print(np.vstack((a,b)))\n",
        "print(np.hstack((a,b))) # will throw error "
      ],
      "metadata": {
        "colab": {
          "base_uri": "https://localhost:8080/",
          "height": 442
        },
        "id": "_MnHby2QnzcE",
        "outputId": "6f744ee5-d1f5-46e9-f1ec-5a8458dc819e"
      },
      "execution_count": null,
      "outputs": [
        {
          "output_type": "stream",
          "name": "stdout",
          "text": [
            "[[1 2]\n",
            " [2 3]\n",
            " [4 5]]\n"
          ]
        },
        {
          "output_type": "error",
          "ename": "ValueError",
          "evalue": "ignored",
          "traceback": [
            "\u001b[0;31m---------------------------------------------------------------------------\u001b[0m",
            "\u001b[0;31mValueError\u001b[0m                                Traceback (most recent call last)",
            "\u001b[0;32m<ipython-input-17-6861a3620217>\u001b[0m in \u001b[0;36m<module>\u001b[0;34m()\u001b[0m\n\u001b[1;32m      3\u001b[0m \u001b[0;34m\u001b[0m\u001b[0m\n\u001b[1;32m      4\u001b[0m \u001b[0mprint\u001b[0m\u001b[0;34m(\u001b[0m\u001b[0mnp\u001b[0m\u001b[0;34m.\u001b[0m\u001b[0mvstack\u001b[0m\u001b[0;34m(\u001b[0m\u001b[0;34m(\u001b[0m\u001b[0ma\u001b[0m\u001b[0;34m,\u001b[0m\u001b[0mb\u001b[0m\u001b[0;34m)\u001b[0m\u001b[0;34m)\u001b[0m\u001b[0;34m)\u001b[0m\u001b[0;34m\u001b[0m\u001b[0;34m\u001b[0m\u001b[0m\n\u001b[0;32m----> 5\u001b[0;31m \u001b[0mprint\u001b[0m\u001b[0;34m(\u001b[0m\u001b[0mnp\u001b[0m\u001b[0;34m.\u001b[0m\u001b[0mhstack\u001b[0m\u001b[0;34m(\u001b[0m\u001b[0;34m(\u001b[0m\u001b[0ma\u001b[0m\u001b[0;34m,\u001b[0m\u001b[0mb\u001b[0m\u001b[0;34m)\u001b[0m\u001b[0;34m)\u001b[0m\u001b[0;34m)\u001b[0m \u001b[0;31m# will throw error\u001b[0m\u001b[0;34m\u001b[0m\u001b[0;34m\u001b[0m\u001b[0m\n\u001b[0m",
            "\u001b[0;32m<__array_function__ internals>\u001b[0m in \u001b[0;36mhstack\u001b[0;34m(*args, **kwargs)\u001b[0m\n",
            "\u001b[0;32m/usr/local/lib/python3.7/dist-packages/numpy/core/shape_base.py\u001b[0m in \u001b[0;36mhstack\u001b[0;34m(tup)\u001b[0m\n\u001b[1;32m    343\u001b[0m         \u001b[0;32mreturn\u001b[0m \u001b[0m_nx\u001b[0m\u001b[0;34m.\u001b[0m\u001b[0mconcatenate\u001b[0m\u001b[0;34m(\u001b[0m\u001b[0marrs\u001b[0m\u001b[0;34m,\u001b[0m \u001b[0;36m0\u001b[0m\u001b[0;34m)\u001b[0m\u001b[0;34m\u001b[0m\u001b[0;34m\u001b[0m\u001b[0m\n\u001b[1;32m    344\u001b[0m     \u001b[0;32melse\u001b[0m\u001b[0;34m:\u001b[0m\u001b[0;34m\u001b[0m\u001b[0;34m\u001b[0m\u001b[0m\n\u001b[0;32m--> 345\u001b[0;31m         \u001b[0;32mreturn\u001b[0m \u001b[0m_nx\u001b[0m\u001b[0;34m.\u001b[0m\u001b[0mconcatenate\u001b[0m\u001b[0;34m(\u001b[0m\u001b[0marrs\u001b[0m\u001b[0;34m,\u001b[0m \u001b[0;36m1\u001b[0m\u001b[0;34m)\u001b[0m\u001b[0;34m\u001b[0m\u001b[0;34m\u001b[0m\u001b[0m\n\u001b[0m\u001b[1;32m    346\u001b[0m \u001b[0;34m\u001b[0m\u001b[0m\n\u001b[1;32m    347\u001b[0m \u001b[0;34m\u001b[0m\u001b[0m\n",
            "\u001b[0;32m<__array_function__ internals>\u001b[0m in \u001b[0;36mconcatenate\u001b[0;34m(*args, **kwargs)\u001b[0m\n",
            "\u001b[0;31mValueError\u001b[0m: all the input arrays must have same number of dimensions, but the array at index 0 has 2 dimension(s) and the array at index 1 has 1 dimension(s)"
          ]
        }
      ]
    },
    {
      "cell_type": "code",
      "source": [
        "a = [[1,2],[2,3]]\n",
        "b = [[4],[5]]\n",
        "\n",
        "print(np.hstack((a,b)))\n",
        "print(np.vstack((a,b))) # will throw error "
      ],
      "metadata": {
        "colab": {
          "base_uri": "https://localhost:8080/",
          "height": 426
        },
        "id": "p0VHsdV2ooIN",
        "outputId": "b043b2f3-71f6-4383-ab60-c47477ef79c0"
      },
      "execution_count": null,
      "outputs": [
        {
          "output_type": "stream",
          "name": "stdout",
          "text": [
            "[[1 2 4]\n",
            " [2 3 5]]\n"
          ]
        },
        {
          "output_type": "error",
          "ename": "ValueError",
          "evalue": "ignored",
          "traceback": [
            "\u001b[0;31m---------------------------------------------------------------------------\u001b[0m",
            "\u001b[0;31mValueError\u001b[0m                                Traceback (most recent call last)",
            "\u001b[0;32m<ipython-input-18-6429a7b33984>\u001b[0m in \u001b[0;36m<module>\u001b[0;34m()\u001b[0m\n\u001b[1;32m      3\u001b[0m \u001b[0;34m\u001b[0m\u001b[0m\n\u001b[1;32m      4\u001b[0m \u001b[0mprint\u001b[0m\u001b[0;34m(\u001b[0m\u001b[0mnp\u001b[0m\u001b[0;34m.\u001b[0m\u001b[0mhstack\u001b[0m\u001b[0;34m(\u001b[0m\u001b[0;34m(\u001b[0m\u001b[0ma\u001b[0m\u001b[0;34m,\u001b[0m\u001b[0mb\u001b[0m\u001b[0;34m)\u001b[0m\u001b[0;34m)\u001b[0m\u001b[0;34m)\u001b[0m\u001b[0;34m\u001b[0m\u001b[0;34m\u001b[0m\u001b[0m\n\u001b[0;32m----> 5\u001b[0;31m \u001b[0mprint\u001b[0m\u001b[0;34m(\u001b[0m\u001b[0mnp\u001b[0m\u001b[0;34m.\u001b[0m\u001b[0mvstack\u001b[0m\u001b[0;34m(\u001b[0m\u001b[0;34m(\u001b[0m\u001b[0ma\u001b[0m\u001b[0;34m,\u001b[0m\u001b[0mb\u001b[0m\u001b[0;34m)\u001b[0m\u001b[0;34m)\u001b[0m\u001b[0;34m)\u001b[0m \u001b[0;31m# will throw error\u001b[0m\u001b[0;34m\u001b[0m\u001b[0;34m\u001b[0m\u001b[0m\n\u001b[0m",
            "\u001b[0;32m<__array_function__ internals>\u001b[0m in \u001b[0;36mvstack\u001b[0;34m(*args, **kwargs)\u001b[0m\n",
            "\u001b[0;32m/usr/local/lib/python3.7/dist-packages/numpy/core/shape_base.py\u001b[0m in \u001b[0;36mvstack\u001b[0;34m(tup)\u001b[0m\n\u001b[1;32m    280\u001b[0m     \u001b[0;32mif\u001b[0m \u001b[0;32mnot\u001b[0m \u001b[0misinstance\u001b[0m\u001b[0;34m(\u001b[0m\u001b[0marrs\u001b[0m\u001b[0;34m,\u001b[0m \u001b[0mlist\u001b[0m\u001b[0;34m)\u001b[0m\u001b[0;34m:\u001b[0m\u001b[0;34m\u001b[0m\u001b[0;34m\u001b[0m\u001b[0m\n\u001b[1;32m    281\u001b[0m         \u001b[0marrs\u001b[0m \u001b[0;34m=\u001b[0m \u001b[0;34m[\u001b[0m\u001b[0marrs\u001b[0m\u001b[0;34m]\u001b[0m\u001b[0;34m\u001b[0m\u001b[0;34m\u001b[0m\u001b[0m\n\u001b[0;32m--> 282\u001b[0;31m     \u001b[0;32mreturn\u001b[0m \u001b[0m_nx\u001b[0m\u001b[0;34m.\u001b[0m\u001b[0mconcatenate\u001b[0m\u001b[0;34m(\u001b[0m\u001b[0marrs\u001b[0m\u001b[0;34m,\u001b[0m \u001b[0;36m0\u001b[0m\u001b[0;34m)\u001b[0m\u001b[0;34m\u001b[0m\u001b[0;34m\u001b[0m\u001b[0m\n\u001b[0m\u001b[1;32m    283\u001b[0m \u001b[0;34m\u001b[0m\u001b[0m\n\u001b[1;32m    284\u001b[0m \u001b[0;34m\u001b[0m\u001b[0m\n",
            "\u001b[0;32m<__array_function__ internals>\u001b[0m in \u001b[0;36mconcatenate\u001b[0;34m(*args, **kwargs)\u001b[0m\n",
            "\u001b[0;31mValueError\u001b[0m: all the input array dimensions for the concatenation axis must match exactly, but along dimension 1, the array at index 0 has size 2 and the array at index 1 has size 1"
          ]
        }
      ]
    },
    {
      "cell_type": "code",
      "source": [
        "a = [\n",
        "     [1.171875, 0.,       0.      ],\n",
        "     [0.,       1.171875, 0.      ],\n",
        "     [0.,       0.,       3.      ]\n",
        "    ]\n",
        "b = [\n",
        "     [ -300.],\n",
        "     [ -225.],\n",
        "     [-1097.]\n",
        "     ]\n",
        "hs = np.hstack((a,b))\n",
        "print(hs)\n",
        "vs = np.vstack((hs,[0,0,0,1]))\n",
        "print(vs)\n",
        "print(vs.shape)"
      ],
      "metadata": {
        "colab": {
          "base_uri": "https://localhost:8080/"
        },
        "id": "H1-Uo-nfozz2",
        "outputId": "43e20fa8-59ee-4bf1-dec6-65e0a5c07dfc"
      },
      "execution_count": null,
      "outputs": [
        {
          "output_type": "stream",
          "name": "stdout",
          "text": [
            "[[    1.171875     0.           0.        -300.      ]\n",
            " [    0.           1.171875     0.        -225.      ]\n",
            " [    0.           0.           3.       -1097.      ]]\n",
            "[[ 1.171875e+00  0.000000e+00  0.000000e+00 -3.000000e+02]\n",
            " [ 0.000000e+00  1.171875e+00  0.000000e+00 -2.250000e+02]\n",
            " [ 0.000000e+00  0.000000e+00  3.000000e+00 -1.097000e+03]\n",
            " [ 0.000000e+00  0.000000e+00  0.000000e+00  1.000000e+00]]\n",
            "(4, 4)\n"
          ]
        }
      ]
    },
    {
      "cell_type": "markdown",
      "source": [
        "### Linear algebra"
      ],
      "metadata": {
        "id": "6HFF1TRQp-Gz"
      }
    },
    {
      "cell_type": "code",
      "source": [
        "a= [[1., 2.], [3., 4.]]\n",
        "print(a)\n",
        "print(np.transpose(a))\n",
        "print(np.linalg.inv(a))"
      ],
      "metadata": {
        "colab": {
          "base_uri": "https://localhost:8080/"
        },
        "id": "UT51JeYXpV5t",
        "outputId": "c773bcbd-21a8-45fc-d329-7cd15d0f6e62"
      },
      "execution_count": null,
      "outputs": [
        {
          "output_type": "stream",
          "name": "stdout",
          "text": [
            "[[1.0, 2.0], [3.0, 4.0]]\n",
            "[[1. 3.]\n",
            " [2. 4.]]\n",
            "[[-2.   1. ]\n",
            " [ 1.5 -0.5]]\n"
          ]
        }
      ]
    },
    {
      "cell_type": "markdown",
      "source": [
        "### Statistics"
      ],
      "metadata": {
        "id": "EJRfQhXYf_jm"
      }
    },
    {
      "cell_type": "code",
      "source": [
        "a = [\n",
        "     [2,4,65,2],\n",
        "     [12,41,6,5],\n",
        "     [20,23,5,8],\n",
        "     [20,23,15,3]\n",
        "]\n",
        "\n",
        "a1 = [2,4,65,2,12,41,6,5,20,23,5,8,20,23,15,3]\n",
        "\n",
        "print(np.percentile(a,95),np.quantile(a,0.95))\n",
        "print(np.percentile(a1,95),np.quantile(a1,0.95))\n",
        "print(np.amax(a), np.amax(a1))"
      ],
      "metadata": {
        "id": "90g8U32FqT5d",
        "colab": {
          "base_uri": "https://localhost:8080/"
        },
        "outputId": "2aff2481-65d2-47cb-abe5-e17c7d56b89e"
      },
      "execution_count": 3,
      "outputs": [
        {
          "output_type": "stream",
          "name": "stdout",
          "text": [
            "47.0 47.0\n",
            "47.0 47.0\n",
            "65 65\n"
          ]
        }
      ]
    },
    {
      "cell_type": "code",
      "source": [
        ""
      ],
      "metadata": {
        "id": "yEeJtZ2rkOfb"
      },
      "execution_count": null,
      "outputs": []
    }
  ]
}