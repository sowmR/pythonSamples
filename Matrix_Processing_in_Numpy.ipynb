{
  "nbformat": 4,
  "nbformat_minor": 0,
  "metadata": {
    "colab": {
      "name": "Matrix Processing in Numpy.ipynb",
      "provenance": [],
      "authorship_tag": "ABX9TyOvO6O8VT9NRWCzRkL1R21G",
      "include_colab_link": true
    },
    "kernelspec": {
      "name": "python3",
      "display_name": "Python 3"
    },
    "language_info": {
      "name": "python"
    }
  },
  "cells": [
    {
      "cell_type": "markdown",
      "metadata": {
        "id": "view-in-github",
        "colab_type": "text"
      },
      "source": [
        "<a href=\"https://colab.research.google.com/github/sowmR/pythonSamples/blob/main/Matrix_Processing_in_Numpy.ipynb\" target=\"_parent\"><img src=\"https://colab.research.google.com/assets/colab-badge.svg\" alt=\"Open In Colab\"/></a>"
      ]
    },
    {
      "cell_type": "code",
      "metadata": {
        "id": "MmY_kPG1ipJO"
      },
      "source": [
        "import numpy as np"
      ],
      "execution_count": 1,
      "outputs": []
    },
    {
      "cell_type": "code",
      "metadata": {
        "id": "WB1lCvK-i3_h"
      },
      "source": [
        "m1 = [[1,2,3],[3,4,5]]\n",
        "m2 = [[2,5],[2,3]]\n",
        "m3 = [[3,7,2],[9,14,2]]"
      ],
      "execution_count": 2,
      "outputs": []
    },
    {
      "cell_type": "markdown",
      "metadata": {
        "id": "dXoOD8xwj5ky"
      },
      "source": [
        "### Arithmetic operations\n",
        "\n",
        "For the Arithmetic operations both matrix/array should be of same shape.\n",
        "\n",
        "Trying to perform arithmetic operation between two matrix of different shape will return error.\n",
        "Example: adding 2x3 matrix with 2x2 matrix will return error.\n"
      ]
    },
    {
      "cell_type": "code",
      "metadata": {
        "colab": {
          "base_uri": "https://localhost:8080/"
        },
        "id": "J4rh7sGdi7qo",
        "outputId": "537d740d-c9e3-4eb5-aa52-038bc313e029"
      },
      "source": [
        "# Matrix addition \n",
        "m4 = np.add(m1,m3)\n",
        "print(m4)"
      ],
      "execution_count": 3,
      "outputs": [
        {
          "output_type": "stream",
          "name": "stdout",
          "text": [
            "[[ 4  9  5]\n",
            " [12 18  7]]\n"
          ]
        }
      ]
    },
    {
      "cell_type": "code",
      "metadata": {
        "colab": {
          "base_uri": "https://localhost:8080/"
        },
        "id": "yhlognOHjZjg",
        "outputId": "2fd38bb6-c607-4d05-8f0f-c843f8389042"
      },
      "source": [
        "# Matrix Subtraction\n",
        "m4 = np.subtract(m1,m3)\n",
        "m4"
      ],
      "execution_count": 4,
      "outputs": [
        {
          "output_type": "execute_result",
          "data": {
            "text/plain": [
              "array([[ -2,  -5,   1],\n",
              "       [ -6, -10,   3]])"
            ]
          },
          "metadata": {},
          "execution_count": 4
        }
      ]
    },
    {
      "cell_type": "code",
      "metadata": {
        "colab": {
          "base_uri": "https://localhost:8080/"
        },
        "id": "NF3T_umrjmKW",
        "outputId": "d506471f-77de-461d-d439-c7a2f698a03f"
      },
      "source": [
        "# matrix Multiplication\n",
        "print(np.multiply(m1,m3))\n"
      ],
      "execution_count": 5,
      "outputs": [
        {
          "output_type": "stream",
          "name": "stdout",
          "text": [
            "[[ 3 14  6]\n",
            " [27 56 10]]\n"
          ]
        }
      ]
    },
    {
      "cell_type": "code",
      "metadata": {
        "colab": {
          "base_uri": "https://localhost:8080/",
          "height": 182
        },
        "id": "97mcxXAGjyH2",
        "outputId": "746bcb14-d436-44a5-d54e-825ab978f28a"
      },
      "source": [
        "# trying to multiply two different matrix size.  When multiplying aXb with cXd matrix, it is important that b=c. Otherwise it will throw error\n",
        "print(np.multiply(m1,m2))"
      ],
      "execution_count": 6,
      "outputs": [
        {
          "output_type": "error",
          "ename": "ValueError",
          "evalue": "ignored",
          "traceback": [
            "\u001b[0;31m---------------------------------------------------------------------------\u001b[0m",
            "\u001b[0;31mValueError\u001b[0m                                Traceback (most recent call last)",
            "\u001b[0;32m<ipython-input-6-3690e4f5cf6a>\u001b[0m in \u001b[0;36m<module>\u001b[0;34m()\u001b[0m\n\u001b[1;32m      1\u001b[0m \u001b[0;31m# trying to multiply two different matrix size\u001b[0m\u001b[0;34m\u001b[0m\u001b[0;34m\u001b[0m\u001b[0;34m\u001b[0m\u001b[0m\n\u001b[0;32m----> 2\u001b[0;31m \u001b[0mprint\u001b[0m\u001b[0;34m(\u001b[0m\u001b[0mnp\u001b[0m\u001b[0;34m.\u001b[0m\u001b[0mmultiply\u001b[0m\u001b[0;34m(\u001b[0m\u001b[0mm1\u001b[0m\u001b[0;34m,\u001b[0m\u001b[0mm2\u001b[0m\u001b[0;34m)\u001b[0m\u001b[0;34m)\u001b[0m\u001b[0;34m\u001b[0m\u001b[0;34m\u001b[0m\u001b[0m\n\u001b[0m",
            "\u001b[0;31mValueError\u001b[0m: operands could not be broadcast together with shapes (2,3) (2,2) "
          ]
        }
      ]
    },
    {
      "cell_type": "code",
      "metadata": {
        "id": "oOrkjU8Kj2ON"
      },
      "source": [
        ""
      ],
      "execution_count": null,
      "outputs": []
    }
  ]
}