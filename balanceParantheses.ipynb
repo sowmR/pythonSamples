{
  "nbformat": 4,
  "nbformat_minor": 0,
  "metadata": {
    "colab": {
      "name": "balanceParantheses.ipynb",
      "provenance": [],
      "collapsed_sections": [],
      "authorship_tag": "ABX9TyO+FZOwEBHzEmc1kDYsuGcI",
      "include_colab_link": true
    },
    "kernelspec": {
      "name": "python3",
      "display_name": "Python 3"
    },
    "language_info": {
      "name": "python"
    }
  },
  "cells": [
    {
      "cell_type": "markdown",
      "metadata": {
        "id": "view-in-github",
        "colab_type": "text"
      },
      "source": [
        "<a href=\"https://colab.research.google.com/github/sowmR/pythonSamples/blob/main/balanceParantheses.ipynb\" target=\"_parent\"><img src=\"https://colab.research.google.com/assets/colab-badge.svg\" alt=\"Open In Colab\"/></a>"
      ]
    },
    {
      "cell_type": "markdown",
      "source": [
        "# String Problem\n",
        "\n",
        "Balance the parantheses in the string.\n",
        "\n",
        "Fill in the missing open parantheses  and close parentheses in the beginning and end of the string respectively so that the all open parantheses will have its corresponding close paranthese.\n",
        "\n",
        "Example:\n",
        "\n",
        "ab(cd(e  ==> ab(cd(e))\n",
        "\n",
        "ab)c(d ==> (ab)c(d)\n",
        "\n",
        "ab)(d  ==> (ab)(d)"
      ],
      "metadata": {
        "id": "2ExJbYbbdhAR"
      }
    },
    {
      "cell_type": "code",
      "source": [
        "def balance(string):\n",
        "  op = []\n",
        "  start = \"\"\n",
        "  end=\"\"\n",
        "  for c in string:\n",
        "    if c == '(':\n",
        "      op.append(\"(\")\n",
        "    elif c==')':\n",
        "      if len(op)==0:\n",
        "        # there is no open braces for this closebraces\n",
        "        start = start + \"(\"\n",
        "      else:\n",
        "        op.pop()\n",
        "  for o in op:\n",
        "    end = end+\")\"\n",
        "  return start+string+end"
      ],
      "metadata": {
        "id": "oF6ae31_fLyF"
      },
      "execution_count": 7,
      "outputs": []
    },
    {
      "cell_type": "code",
      "source": [
        "input = 'ab)(c)('\n",
        "result = balance(input)\n",
        "print(result)\n",
        "  "
      ],
      "metadata": {
        "colab": {
          "base_uri": "https://localhost:8080/"
        },
        "id": "TyGVAdj5eFfa",
        "outputId": "7b335b4a-0ec9-424c-e73d-f949ede400bd"
      },
      "execution_count": 8,
      "outputs": [
        {
          "output_type": "stream",
          "name": "stdout",
          "text": [
            "(ab)(c)()\n"
          ]
        }
      ]
    }
  ]
}