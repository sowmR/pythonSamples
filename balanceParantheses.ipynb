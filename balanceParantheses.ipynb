{
  "nbformat": 4,
  "nbformat_minor": 0,
  "metadata": {
    "colab": {
      "name": "balance_parantheses.ipynb",
      "provenance": [],
      "collapsed_sections": [],
      "authorship_tag": "ABX9TyPDGqGNJjyxpS4Sj55OHoDp",
      "include_colab_link": true
    },
    "kernelspec": {
      "name": "python3",
      "display_name": "Python 3"
    },
    "language_info": {
      "name": "python"
    }
  },
  "cells": [
    {
      "cell_type": "markdown",
      "metadata": {
        "id": "view-in-github",
        "colab_type": "text"
      },
      "source": [
        "<a href=\"https://colab.research.google.com/github/sowmR/pythonSamples/blob/main/balanceParantheses.ipynb\" target=\"_parent\"><img src=\"https://colab.research.google.com/assets/colab-badge.svg\" alt=\"Open In Colab\"/></a>"
      ]
    },
    {
      "cell_type": "markdown",
      "source": [
        "Balance the parantheses in the string"
      ],
      "metadata": {
        "id": "2ExJbYbbdhAR"
      }
    },
    {
      "cell_type": "code",
      "source": [
        "def getIndex(string,character):\n",
        "  idx = []\n",
        "  for i in range(len(string)):\n",
        "    if string[i]==character:\n",
        "      idx.append(i)\n",
        "  return idx"
      ],
      "metadata": {
        "id": "c1YxeGwLeNQ0"
      },
      "execution_count": 12,
      "outputs": []
    },
    {
      "cell_type": "code",
      "execution_count": 13,
      "metadata": {
        "id": "rH53K5zBdgPh"
      },
      "outputs": [],
      "source": [
        "def extract(string):\n",
        "    flag = 0\n",
        "    result, accum = [], []\n",
        "    for c in string:\n",
        "        if c == ')':\n",
        "            flag -= 1\n",
        "        if flag:\n",
        "            accum.append(c)\n",
        "        if c == '(':\n",
        "            flag += 1\n",
        "        if not flag and accum:\n",
        "            result.append(''.join(accum))\n",
        "            accum = []\n",
        "        print(flag)\n",
        "    return result"
      ]
    },
    {
      "cell_type": "code",
      "source": [
        "def balance(string):\n",
        "  openp = getIndex(string,'(')\n",
        "  closep = getIndex(string,')')\n",
        "  max = len(openp)\n",
        "  startneeded = 0 \n",
        "  endneeded = 0\n",
        "  startStr = \"\"\n",
        "  endStr =\"\"\n",
        "  if len(openp) > len(closep):\n",
        "    endneeded = len(openp)-len(closep)\n",
        "    max = len(closep)\n",
        "    startneeded = 0\n",
        "  elif len(openp)< len(closep):\n",
        "    endneeded = 0\n",
        "    startneeded = len(closep) - len(openp)\n",
        "    max = len(openp)\n",
        "  print(\"Open:\",openp, startneeded)\n",
        "  print(\"Close:\", closep, endneeded)\n",
        "  for i in range(len(closep)):\n",
        "    tmp = 0 # total number of openparantheses before this close paranthese.\n",
        "    for j in range(len(openp)):\n",
        "      if (openp[j]<closep[i]):\n",
        "        tmp = tmp +1\n",
        "    print(\"tmp: \", tmp, i+1)\n",
        "    if tmp < (i+1):\n",
        "      startneeded = startneeded + (i+1-tmp)\n",
        "      print(\"start:\", startneeded)\n",
        "  startStr = \"\"\n",
        "  endStr =\"\"\n",
        "  for i in range(startneeded):\n",
        "    startStr = startStr+\"(\"\n",
        "  for i in range(endneeded):\n",
        "    endStr = endStr+\")\"\n",
        "  result = startStr+string+endStr\n",
        "  return result\n",
        "  \n",
        "  "
      ],
      "metadata": {
        "id": "TyGVAdj5eFfa"
      },
      "execution_count": 39,
      "outputs": []
    },
    {
      "cell_type": "code",
      "source": [
        "input = 'ab)(c)('\n",
        "result = balance(input)\n",
        "openp = getIndex(result,'(')\n",
        "closep = getIndex(result,')')\n",
        "result = balance(result)\n",
        "print(result)"
      ],
      "metadata": {
        "colab": {
          "base_uri": "https://localhost:8080/"
        },
        "id": "s1g0OEA1dlo5",
        "outputId": "0026841e-ba6a-4437-d704-b658ec4dba66"
      },
      "execution_count": 42,
      "outputs": [
        {
          "output_type": "stream",
          "name": "stdout",
          "text": [
            "Open: [3, 6] 0\n",
            "Close: [2, 5] 0\n",
            "tmp:  0 1\n",
            "start: 1\n",
            "tmp:  1 2\n",
            "start: 2\n",
            "Open: [0, 1, 5, 8] 0\n",
            "Close: [4, 7] 2\n",
            "tmp:  2 1\n",
            "tmp:  3 2\n",
            "((ab)(c)())\n"
          ]
        }
      ]
    },
    {
      "cell_type": "code",
      "source": [
        ""
      ],
      "metadata": {
        "id": "1lw-Z9NTdpM4"
      },
      "execution_count": null,
      "outputs": []
    }
  ]
}