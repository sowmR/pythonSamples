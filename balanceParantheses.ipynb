{
  "nbformat": 4,
  "nbformat_minor": 0,
  "metadata": {
    "colab": {
      "name": "balanceParantheses.ipynb",
      "provenance": [],
      "collapsed_sections": [],
      "authorship_tag": "ABX9TyMnRi9TytPts8x03uUr8lxV",
      "include_colab_link": true
    },
    "kernelspec": {
      "name": "python3",
      "display_name": "Python 3"
    },
    "language_info": {
      "name": "python"
    }
  },
  "cells": [
    {
      "cell_type": "markdown",
      "metadata": {
        "id": "view-in-github",
        "colab_type": "text"
      },
      "source": [
        "<a href=\"https://colab.research.google.com/github/sowmR/pythonSamples/blob/main/balanceParantheses.ipynb\" target=\"_parent\"><img src=\"https://colab.research.google.com/assets/colab-badge.svg\" alt=\"Open In Colab\"/></a>"
      ]
    },
    {
      "cell_type": "markdown",
      "source": [
        "Balance the parantheses in the string"
      ],
      "metadata": {
        "id": "2ExJbYbbdhAR"
      }
    },
    {
      "cell_type": "code",
      "source": [
        "def getIndex(string,character):\n",
        "  idx = []\n",
        "  for i in range(len(string)):\n",
        "    if string[i]==character:\n",
        "      idx.append(i)\n",
        "  return idx"
      ],
      "metadata": {
        "id": "c1YxeGwLeNQ0"
      },
      "execution_count": 2,
      "outputs": []
    },
    {
      "cell_type": "code",
      "execution_count": 3,
      "metadata": {
        "id": "rH53K5zBdgPh"
      },
      "outputs": [],
      "source": [
        "def extract(string):\n",
        "    flag = 0\n",
        "    result, accum = [], []\n",
        "    for c in string:\n",
        "        if c == ')':\n",
        "            flag -= 1\n",
        "        if flag:\n",
        "            accum.append(c)\n",
        "        if c == '(':\n",
        "            flag += 1\n",
        "        if not flag and accum:\n",
        "            result.append(''.join(accum))\n",
        "            accum = []\n",
        "        print(flag)\n",
        "    return result"
      ]
    },
    {
      "cell_type": "code",
      "source": [
        "def balance(string):\n",
        "  op = []\n",
        "  start = \"\"\n",
        "  end=\"\"\n",
        "  for c in string:\n",
        "    if c == '(':\n",
        "      op.append(\"(\")\n",
        "    elif c==')':\n",
        "      if len(op)==0:\n",
        "        # there is no open braces for this closebraces\n",
        "        start = start + \"(\"\n",
        "      else:\n",
        "        op.pop()\n",
        "  for o in op:\n",
        "    end = end+\")\"\n",
        "  return start+string+end"
      ],
      "metadata": {
        "id": "oF6ae31_fLyF"
      },
      "execution_count": 4,
      "outputs": []
    },
    {
      "cell_type": "code",
      "source": [
        "\n",
        "  "
      ],
      "metadata": {
        "id": "TyGVAdj5eFfa"
      },
      "execution_count": 5,
      "outputs": []
    },
    {
      "cell_type": "code",
      "source": [
        "input = 'ab)(c)('\n",
        "result = balance(input)\n",
        "print(result)"
      ],
      "metadata": {
        "colab": {
          "base_uri": "https://localhost:8080/"
        },
        "id": "s1g0OEA1dlo5",
        "outputId": "5d86ea49-3bfb-4fc9-b208-e59370ce09dc"
      },
      "execution_count": 6,
      "outputs": [
        {
          "output_type": "stream",
          "name": "stdout",
          "text": [
            "(ab)(c)()\n"
          ]
        }
      ]
    },
    {
      "cell_type": "code",
      "source": [
        ""
      ],
      "metadata": {
        "id": "1lw-Z9NTdpM4"
      },
      "execution_count": null,
      "outputs": []
    }
  ]
}