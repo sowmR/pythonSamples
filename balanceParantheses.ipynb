{
  "nbformat": 4,
  "nbformat_minor": 0,
  "metadata": {
    "colab": {
      "name": "Untitled0.ipynb",
      "provenance": [],
      "authorship_tag": "ABX9TyNk+Pn0B3air2+s8ihTCRZj",
      "include_colab_link": true
    },
    "kernelspec": {
      "name": "python3",
      "display_name": "Python 3"
    },
    "language_info": {
      "name": "python"
    }
  },
  "cells": [
    {
      "cell_type": "markdown",
      "metadata": {
        "id": "view-in-github",
        "colab_type": "text"
      },
      "source": [
        "<a href=\"https://colab.research.google.com/github/sowmR/pythonSamples/blob/main/balanceParantheses.ipynb\" target=\"_parent\"><img src=\"https://colab.research.google.com/assets/colab-badge.svg\" alt=\"Open In Colab\"/></a>"
      ]
    },
    {
      "cell_type": "markdown",
      "source": [
        "Balance the parantheses in the string"
      ],
      "metadata": {
        "id": "2ExJbYbbdhAR"
      }
    },
    {
      "cell_type": "code",
      "source": [
        "def getIndex(string,character):\n",
        "  idx = []\n",
        "  for i in range(len(string)):\n",
        "    if string[i]==character:\n",
        "      idx.append(i)"
      ],
      "metadata": {
        "id": "c1YxeGwLeNQ0"
      },
      "execution_count": null,
      "outputs": []
    },
    {
      "cell_type": "code",
      "execution_count": 3,
      "metadata": {
        "id": "rH53K5zBdgPh"
      },
      "outputs": [],
      "source": [
        "def extract(string):\n",
        "    flag = 0\n",
        "    result, accum = [], []\n",
        "    for c in string:\n",
        "        if c == ')':\n",
        "            flag -= 1\n",
        "        if flag:\n",
        "            accum.append(c)\n",
        "        if c == '(':\n",
        "            flag += 1\n",
        "        if not flag and accum:\n",
        "            result.append(''.join(accum))\n",
        "            accum = []\n",
        "        print(flag)\n",
        "    return result"
      ]
    },
    {
      "cell_type": "code",
      "source": [
        ""
      ],
      "metadata": {
        "id": "TyGVAdj5eFfa"
      },
      "execution_count": null,
      "outputs": []
    },
    {
      "cell_type": "code",
      "source": [
        "print(extract('a)(b'))"
      ],
      "metadata": {
        "colab": {
          "base_uri": "https://localhost:8080/"
        },
        "id": "s1g0OEA1dlo5",
        "outputId": "4df74138-c280-47d5-9c52-b0c51f1840a7"
      },
      "execution_count": 4,
      "outputs": [
        {
          "output_type": "stream",
          "name": "stdout",
          "text": [
            "0\n",
            "-1\n",
            "0\n",
            "0\n",
            "[')(']\n"
          ]
        }
      ]
    },
    {
      "cell_type": "code",
      "source": [
        ""
      ],
      "metadata": {
        "id": "1lw-Z9NTdpM4"
      },
      "execution_count": null,
      "outputs": []
    }
  ]
}