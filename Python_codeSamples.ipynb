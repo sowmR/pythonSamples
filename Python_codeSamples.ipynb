{
  "nbformat": 4,
  "nbformat_minor": 0,
  "metadata": {
    "colab": {
      "name": "Python codeSamples.ipynb",
      "provenance": [],
      "collapsed_sections": [],
      "authorship_tag": "ABX9TyO2iHNpbz65bB8W2SeIGrwV",
      "include_colab_link": true
    },
    "kernelspec": {
      "name": "python3",
      "display_name": "Python 3"
    },
    "language_info": {
      "name": "python"
    }
  },
  "cells": [
    {
      "cell_type": "markdown",
      "metadata": {
        "id": "view-in-github",
        "colab_type": "text"
      },
      "source": [
        "<a href=\"https://colab.research.google.com/github/sowmR/pythonSamples/blob/main/Python_codeSamples.ipynb\" target=\"_parent\"><img src=\"https://colab.research.google.com/assets/colab-badge.svg\" alt=\"Open In Colab\"/></a>"
      ]
    },
    {
      "cell_type": "code",
      "metadata": {
        "colab": {
          "base_uri": "https://localhost:8080/"
        },
        "id": "xZsyO4jEg6li",
        "outputId": "1dda41fb-94c2-46d0-e645-57c54a74e851"
      },
      "source": [
        "import numpy as np\n",
        "arr = [[\n",
        "            [0,0,1,0],\n",
        "            [1,0,1,0],\n",
        "            [0,0,1,0],\n",
        "            [0,0,0,1]\n",
        "        ],\n",
        "        [\n",
        "            [0,0,1,0],\n",
        "            [1,0,1,1],\n",
        "            [0,0,1,0],\n",
        "            [1,0,0,1]\n",
        "        ],\n",
        "        [\n",
        "            [0,0,1,0],\n",
        "            [1,0,1,0],\n",
        "            [0,1,1,0],\n",
        "            [1,0,0,1]\n",
        "        ]]\n",
        "arr = np.array(arr)\n",
        "print(arr.shape)\n",
        "print(np.percentile(arr,0.5))"
      ],
      "execution_count": 1,
      "outputs": [
        {
          "output_type": "stream",
          "name": "stdout",
          "text": [
            "(3, 4, 4)\n",
            "0.0\n"
          ]
        }
      ]
    },
    {
      "cell_type": "markdown",
      "metadata": {
        "id": "lo6oaVlFg_uP"
      },
      "source": [
        "## Signed Integer Vs Unsigned Integer\n",
        "\n",
        "A signed integer is 32 bit integer in the range of -(2^31) to (2^31)  which contains both positive and negative number. \n",
        "\n",
        "An unsigned integer is a 32 bit non-negative integer in the range of 0 to (2^32)-1\n"
      ]
    },
    {
      "cell_type": "code",
      "metadata": {
        "colab": {
          "base_uri": "https://localhost:8080/"
        },
        "id": "8Mumm22ShDUf",
        "outputId": "68f4f51b-e3ea-497b-d567-3a60df777e3c"
      },
      "source": [
        "# convert signed integer to unsigned integer\n",
        "signed_integer = np.int16(-100)\n",
        "\n",
        "# method -1 \n",
        "# Adding 2^16  as this will be 16 bit integer to convert signed to unsigned integer\n",
        "unsigned_integer = signed_integer+2**16\n",
        "print(unsigned_integer)\n",
        "print(type(unsigned_integer))\n",
        "\n",
        "# method - 2\n",
        "# Adding 1<<16 to convert signed to \n",
        "# unsigned integer\n",
        "unsigned_integer = signed_integer+(1 << 16)\n",
        "print(unsigned_integer)"
      ],
      "execution_count": 2,
      "outputs": [
        {
          "output_type": "stream",
          "name": "stdout",
          "text": [
            "65436\n",
            "<class 'numpy.int64'>\n",
            "65436\n"
          ]
        }
      ]
    },
    {
      "cell_type": "markdown",
      "metadata": {
        "id": "munAEHM1hKgt"
      },
      "source": [
        "## Image processing sample"
      ]
    },
    {
      "cell_type": "code",
      "metadata": {
        "id": "XPERWkPghMU0"
      },
      "source": [
        "imArr = [[ 0  ,0  ,0  ,0  ,0  ,0  ,0  ,0  ,0  ,0  ,0  ,0  ,0  ,0  ,0  ,0  ,0  ,0\n",
        "   ,0  ,0  ,0  ,0  ,0  ,0  ,0  ,0  ,0  ,0  ,0  ,0  ,0  ,0  ,0  ,0  ,0  ,0\n",
        "   ,0  ,0  ,0  ,0  ,0  ,0  ,0  ,0  ,0  ,0  ,0  ,0  ,0  ,0  ,0  ,0  ,0  ,0\n",
        "   ,0  ,0  ,0  ,0  ,0  ,0  ,0  ,0  ,0  ,0  ,0  ,0  ,0  ,0  ,0  ,0  ,0  ,0\n",
        "   ,0  ,0  ,0  ,0  ,0  ,0  ,0  ,0  ,0  ,0  ,0  ,0  ,0  ,0  ,0  ,0  ,0  ,0\n",
        "   ,0  ,0  ,0  ,0  ,0  ,0  ,0  ,0  ,0  ,0  ,0  ,0  ,0  ,0  ,0  ,0  ,0  ,0\n",
        "   ,0  ,0  ,0  ,0  ,0  ,0  ,0  ,0  ,0  ,0  ,0  ,0  ,0  ,0  ,0  ,0  ,0  ,0\n",
        "   ,0  ,0  ,0  ,0  ,0  ,0  ,0  ,0  ,0  ,0  ,0  ,0  ,0  ,0  ,0  ,0  ,0  ,0\n",
        "   ,0  ,0  ,0  ,0  ,0  ,0  ,0  ,0  ,0  ,0  ,0  ,0  ,0  ,0  ,0  ,0  ,0  ,0\n",
        "   ,0  ,0  ,0  ,0  ,0  ,0  ,0  ,0  ,0  ,0  ,0  ,0  ,0  ,0  ,0  ,0  ,0  ,0\n",
        "   ,0  ,0  ,0  ,0  ,0 ,107 ,114 ,121 ,130 ,134 ,136 ,142 ,144 ,149 ,150 ,152 ,154 ,156\n",
        "  ,158 ,159 ,160 ,161 ,162 ,163 ,164 ,164 ,165 ,166 ,167 ,167 ,168 ,169 ,170 ,170 ,171 ,172\n",
        "  ,173 ,174 ,175 ,176 ,177 ,178 ,179 ,180 ,180 ,181 ,182 ,183 ,184 ,185 ,186 ,186 ,187 ,187\n",
        "  ,188 ,188 ,189 ,189 ,190 ,190 ,191 ,191 ,192 ,192 ,192 ,192 ,192 ,192 ,192 ,192 ,193 ,193\n",
        "  ,194 ,194 ,194 ,194 ,195 ,195 ,195 ,195 ,195 ,195 ,194 ,194 ,194 ,194 ,194 ,193 ,193 ,192\n",
        "  ,192 ,191 ,191 ,191 ,191 ,191 ,191 ,191 ,191 ,190 ,190 ,190 ,189 ,188 ,188 ,188 ,187 ,187\n",
        "  ,186 ,186 ,185 ,185 ,184 ,183 ,183 ,182 ,182 ,181 ,180 ,179 ,179 ,178 ,177 ,176 ,176 ,175\n",
        "  ,174 ,174 ,173 ,172 ,172 ,171 ,171 ,170 ,169 ,168 ,167 ,166 ,165 ,164 ,163 ,163 ,162 ,162\n",
        "  ,161 ,161 ,160 ,160 ,159 ,159 ,158 ,158 ,157 ,156 ,156 ,155 ,155 ,154 ,154 ,153 ,153 ,152\n",
        "  ,152 ,152 ,151 ,150 ,150 ,150 ,149 ,149 ,148 ,148 ,148 ,147 ,147 ,146 ,145 ,145 ,144 ,143\n",
        "  ,141 ,139 ,135  ,0  ,0  ,0  ,0  ,0  ,0  ,0  ,0  ,0  ,0  ,0  ,0  ,0  ,0  ,0\n",
        "   ,0  ,0  ,0  ,0  ,0  ,0  ,0  ,0  ,0  ,0  ,0  ,0  ,0  ,0  ,0  ,0  ,0  ,0\n",
        "   ,0  ,0  ,0  ,0  ,0  ,0  ,0  ,0  ,0  ,0  ,0  ,0  ,0  ,0  ,0  ,0  ,0  ,0\n",
        "   ,0  ,0  ,0  ,0  ,0  ,0  ,0  ,0  ,0  ,0  ,0  ,0  ,0  ,0  ,0  ,0  ,0  ,0\n",
        "   ,0  ,0  ,0  ,0  ,0  ,0  ,0  ,0  ,0  ,0  ,0  ,0  ,0  ,0  ,0  ,0  ,0  ,0\n",
        "   ,0  ,0  ,0  ,0  ,0  ,0  ,0  ,0  ,0  ,0  ,0  ,0  ,0  ,0  ,0  ,0  ,0  ,0\n",
        "   ,0  ,0  ,0  ,0  ,0  ,0  ,0  ,0  ,0  ,0  ,0  ,0  ,0  ,0  ,0  ,0  ,0  ,0\n",
        "   ,0  ,0  ,0  ,0  ,0  ,0  ,0  ,0  ,0  ,0  ,0  ,0  ,0  ,0  ,0  ,0  ,0  ,0\n",
        "   ,0  ,0  ,0  ,0  ,0  ,0  ,0  ,0],\n",
        "   \n",
        "   [ 0  ,0  ,0  ,0  ,0  ,0  ,0  ,0  ,0  ,0  ,0  ,0  ,0  ,0  ,0  ,0  ,0  ,0\n",
        "   ,0  ,0  ,0  ,0  ,0  ,0  ,0  ,0  ,0  ,0  ,0  ,0  ,0  ,0  ,0  ,0  ,0  ,0\n",
        "   ,0  ,0  ,0  ,0  ,0  ,0  ,0  ,0  ,0  ,0  ,0  ,0  ,0  ,0  ,0  ,0  ,0  ,0\n",
        "   ,0  ,0  ,0  ,0  ,0  ,0  ,0  ,0  ,0  ,0  ,0  ,0  ,0  ,0  ,0  ,0  ,0  ,0\n",
        "   ,0  ,0  ,0  ,0  ,0  ,0  ,0  ,0  ,0  ,0  ,0  ,0  ,0  ,0  ,0  ,0  ,0  ,0\n",
        "   ,0  ,0  ,0  ,0  ,0  ,0  ,0  ,0  ,0  ,0  ,0  ,0  ,0  ,0  ,0  ,0  ,0  ,0\n",
        "   ,0  ,0  ,0  ,0  ,0  ,0  ,0  ,0  ,0  ,0  ,0  ,0  ,0  ,0  ,0  ,0  ,0  ,0\n",
        "   ,0  ,0  ,0  ,0  ,0  ,0  ,0  ,0  ,0  ,0  ,0  ,0  ,0  ,0  ,0  ,0  ,0  ,0\n",
        "   ,0  ,0  ,0  ,0  ,0  ,0  ,0  ,0  ,0  ,0  ,0  ,0  ,0  ,0  ,0  ,0  ,0  ,0\n",
        "   ,0  ,0  ,0  ,0  ,0  ,0  ,0  ,0  ,0  ,0  ,0  ,0  ,0  ,0  ,0  ,0  ,0  ,0\n",
        "   ,0  ,0  ,0  ,0  ,0 ,107 ,114 ,119 ,126 ,134 ,134 ,142 ,143 ,149 ,150 ,152 ,153 ,155\n",
        "  ,157 ,158 ,159 ,161 ,162 ,163 ,164 ,164 ,165 ,166 ,167 ,168 ,168 ,169 ,169 ,170 ,172 ,172\n",
        "  ,173 ,174 ,175 ,175 ,176 ,178 ,179 ,180 ,180 ,181 ,181 ,182 ,183 ,184 ,185 ,185 ,186 ,187\n",
        "  ,187 ,188 ,188 ,189 ,189 ,189 ,190 ,190 ,191 ,191 ,191 ,191 ,192 ,192 ,192 ,192 ,192 ,192\n",
        "  ,192 ,193 ,193 ,193 ,194 ,194 ,194 ,194 ,194 ,194 ,194 ,194 ,194 ,193 ,193 ,193 ,192 ,192\n",
        "  ,192 ,191 ,191 ,190 ,191 ,190 ,190 ,190 ,190 ,190 ,189 ,188 ,188 ,187 ,187 ,186 ,186 ,186\n",
        "  ,185 ,185 ,184 ,184 ,183 ,183 ,182 ,182 ,181 ,180 ,180 ,179 ,178 ,177 ,176 ,175 ,174 ,174\n",
        "  ,173 ,173 ,172 ,172 ,171 ,171 ,170 ,169 ,168 ,167 ,166 ,165 ,164 ,163 ,162 ,161 ,161 ,161\n",
        "  ,160 ,160 ,159 ,159 ,158 ,158 ,158 ,157 ,157 ,156 ,156 ,155 ,155 ,154 ,154 ,153 ,153 ,152\n",
        "  ,152 ,151 ,151 ,150 ,150 ,149 ,149 ,149 ,148 ,148 ,147 ,147 ,146 ,146 ,145 ,144 ,143 ,143\n",
        "  ,142 ,139 ,136 ,133  ,0  ,0  ,0  ,0  ,0  ,0  ,0  ,0  ,0  ,0  ,0  ,0  ,0  ,0\n",
        "   ,0  ,0  ,0  ,0  ,0  ,0  ,0  ,0  ,0  ,0  ,0  ,0  ,0  ,0  ,0  ,0  ,0  ,0\n",
        "   ,0  ,0  ,0  ,0  ,0  ,0  ,0  ,0  ,0  ,0  ,0  ,0  ,0  ,0  ,0  ,0  ,0  ,0\n",
        "   ,0  ,0  ,0  ,0  ,0  ,0  ,0  ,0  ,0  ,0  ,0  ,0  ,0  ,0  ,0  ,0  ,0  ,0\n",
        "   ,0  ,0  ,0  ,0  ,0  ,0  ,0  ,0  ,0  ,0  ,0  ,0  ,0  ,0  ,0  ,0  ,0  ,0\n",
        "   ,0  ,0  ,0  ,0  ,0  ,0  ,0  ,0  ,0  ,0  ,0  ,0  ,0  ,0  ,0  ,0  ,0  ,0\n",
        "   ,0  ,0  ,0  ,0  ,0  ,0  ,0  ,0  ,0  ,0  ,0  ,0  ,0  ,0  ,0  ,0  ,0  ,0\n",
        "   ,0  ,0  ,0  ,0  ,0  ,0  ,0  ,0  ,0  ,0  ,0  ,0  ,0  ,0  ,0  ,0  ,0  ,0\n",
        "   ,0  ,0  ,0  ,0  ,0  ,0  ,0  ,0]\n",
        "   ]"
      ],
      "execution_count": 4,
      "outputs": []
    },
    {
      "cell_type": "code",
      "metadata": {
        "colab": {
          "base_uri": "https://localhost:8080/"
        },
        "id": "-m_VZl0UhRxY",
        "outputId": "228466da-97c5-4996-aec4-222261b38757"
      },
      "source": [
        "# changing the opacity of the image \n",
        "\n",
        "opacity = 0.8\n",
        "imArr = np.array(imArr)\n",
        "indx = imArr>0\n",
        "nArr = imArr\n",
        "nArr[indx] = np.subtract(255 ,np.multiply(opacity,np.subtract(255,imArr[indx])))\n",
        "img_rgb = np.uint8(np.stack((nArr,)*3,axis=-1))\n",
        "print(img_rgb[0][244:255])"
      ],
      "execution_count": 5,
      "outputs": [
        {
          "output_type": "stream",
          "name": "stdout",
          "text": [
            "[[204 204 204]\n",
            " [204 204 204]\n",
            " [204 204 204]\n",
            " [204 204 204]\n",
            " [204 204 204]\n",
            " [204 204 204]\n",
            " [205 205 205]\n",
            " [205 205 205]\n",
            " [206 206 206]\n",
            " [206 206 206]\n",
            " [206 206 206]]\n"
          ]
        }
      ]
    },
    {
      "cell_type": "markdown",
      "metadata": {
        "id": "4LGLU7MEhZrx"
      },
      "source": [
        "# Matrix Processing"
      ]
    },
    {
      "cell_type": "code",
      "metadata": {
        "colab": {
          "base_uri": "https://localhost:8080/"
        },
        "id": "qW5uzIjEhbYU",
        "outputId": "a9efd5d6-3b23-4904-d876-b759478ef771"
      },
      "source": [
        "m1 = [[1,2,3],[3,4,5]]\n",
        "m2 = [[2,5],[2,3]]\n",
        "\n",
        "# addition\n",
        "m3 = np.subtract(2,m1)\n",
        "m3\n",
        "imArr = np.array(m1)\n",
        "indx = imArr>0\n",
        "img_with_opacity = imArr\n",
        "img_with_opacity[indx] = np.subtract(255 ,np.multiply(opacity,np.subtract(255,imArr[indx])))\n",
        "print(img_with_opacity)"
      ],
      "execution_count": 6,
      "outputs": [
        {
          "output_type": "stream",
          "name": "stdout",
          "text": [
            "[[51 52 53]\n",
            " [53 54 55]]\n"
          ]
        }
      ]
    }
  ]
}