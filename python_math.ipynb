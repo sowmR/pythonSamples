{
  "nbformat": 4,
  "nbformat_minor": 0,
  "metadata": {
    "colab": {
      "name": "python_math.ipynb",
      "provenance": [],
      "authorship_tag": "ABX9TyNheiiZJUnQonKM1E/L4NVy",
      "include_colab_link": true
    },
    "kernelspec": {
      "name": "python3",
      "display_name": "Python 3"
    },
    "language_info": {
      "name": "python"
    }
  },
  "cells": [
    {
      "cell_type": "markdown",
      "metadata": {
        "id": "view-in-github",
        "colab_type": "text"
      },
      "source": [
        "<a href=\"https://colab.research.google.com/github/sowmR/pythonSamples/blob/main/python_math.ipynb\" target=\"_parent\"><img src=\"https://colab.research.google.com/assets/colab-badge.svg\" alt=\"Open In Colab\"/></a>"
      ]
    },
    {
      "cell_type": "code",
      "metadata": {
        "id": "hovrOfBMWcCS"
      },
      "source": [
        "#!/usr/bin/python\n",
        "import math"
      ],
      "execution_count": 15,
      "outputs": []
    },
    {
      "cell_type": "code",
      "metadata": {
        "colab": {
          "base_uri": "https://localhost:8080/"
        },
        "id": "7YbBbsELWhCL",
        "outputId": "23858557-6273-4606-f294-a03af758a622"
      },
      "source": [
        "# Exponential\n",
        "\n",
        "X = 20.926\n",
        "H = 2.999802E-04\n",
        "B1 = 0.1738\n",
        "B2 = 0.3156\n",
        "B3 = 0.3347\n",
        "Age=78\n",
        "R = 6.702\n",
        "r0 = B1*Age + B3\n",
        "print(r0)\n",
        "h0 = H * r0\n",
        "print(h0)\n",
        "math.exp(-(h0))"
      ],
      "execution_count": 16,
      "outputs": [
        {
          "output_type": "stream",
          "name": "stdout",
          "text": [
            "13.8911\n",
            "0.00416705495622\n"
          ]
        },
        {
          "output_type": "execute_result",
          "data": {
            "text/plain": [
              "0.9958416151701389"
            ]
          },
          "metadata": {},
          "execution_count": 16
        }
      ]
    },
    {
      "cell_type": "markdown",
      "metadata": {
        "id": "GjMKZyJw1Nrq"
      },
      "source": [
        "# other mathematical functions"
      ]
    },
    {
      "cell_type": "code",
      "metadata": {
        "colab": {
          "base_uri": "https://localhost:8080/"
        },
        "id": "OI41V007XJIs",
        "outputId": "2fdbfb01-0fbd-4ae8-eee3-0d6889bb287b"
      },
      "source": [
        "# The absolute value of x: the (positive) distance between x and zero.\n",
        "x = 23.45\n",
        "y = 12.34\n",
        "print(\"Absolute value of X: {}\".format(abs(x)))\n",
        "print(\"The ceiling of X: {}\".format( math.ceil(x)))\n",
        "# print(\"-1 if x < y, 0 if x == y, or 1 if x > y: {}\".format(cmp( x, y )))\n",
        "print(\"Absolute value of X: {}\".format( math.fabs(x)))\n",
        "print(\"Floor value of X: {}\".format( math.floor(x)))\n",
        "print(\"Natural Log value value of X for X>0: {}\".format( math.log(x)))\n",
        "print(\"Base-10 Log value of X for X>0: {}\".format( math.log10(x)))\n"
      ],
      "execution_count": 20,
      "outputs": [
        {
          "output_type": "stream",
          "name": "stdout",
          "text": [
            "Absolute value of X: 23.45\n",
            "The ceiling of X: 24\n",
            "Absolute value of X: 23.45\n",
            "Floor value of X: 23\n",
            "Natural Log value value of X for X>0: 3.1548704948922883\n",
            "Base-10 Log value of X for X>0: 1.3701428470511021\n"
          ]
        }
      ]
    },
    {
      "cell_type": "code",
      "metadata": {
        "colab": {
          "base_uri": "https://localhost:8080/"
        },
        "id": "55j2X7On1Wov",
        "outputId": "145ac601-f079-4ea3-f703-6bf178ad3d9f"
      },
      "source": [
        "print(\"Max of a list: {}\".format(max(20,15,40)))\n",
        "print(\"Max of a list: {}\".format(max('c','a','f')))"
      ],
      "execution_count": 22,
      "outputs": [
        {
          "output_type": "stream",
          "name": "stdout",
          "text": [
            "Max of a list: 40\n",
            "Max of a list: f\n"
          ]
        }
      ]
    },
    {
      "cell_type": "code",
      "metadata": {
        "colab": {
          "base_uri": "https://localhost:8080/"
        },
        "id": "_WGJMW2O2_5x",
        "outputId": "9cb10776-0303-43fa-bce2-79f6d39189c5"
      },
      "source": [
        "print(\"Min of a list: {}\".format(min(20,15,40)))\n",
        "print(\"Min of a list: {}\".format(min('c','a','f')))"
      ],
      "execution_count": 25,
      "outputs": [
        {
          "output_type": "stream",
          "name": "stdout",
          "text": [
            "Min of a list: 15\n",
            "Min of a list: a\n"
          ]
        }
      ]
    },
    {
      "cell_type": "code",
      "metadata": {
        "colab": {
          "base_uri": "https://localhost:8080/"
        },
        "id": "809qPYoa3PZ7",
        "outputId": "bb4c9512-4213-46ec-e059-270b5d1854ce"
      },
      "source": [
        "'''\n",
        "The fractional and integer parts of x in a two-item tuple. Both parts have the same sign as x. The integer part is returned as a float.\n",
        "'''\n",
        "x = 24.76\n",
        "print(\"The fractional and integer parts of x: {}\".format(math.modf( x )))"
      ],
      "execution_count": 28,
      "outputs": [
        {
          "output_type": "stream",
          "name": "stdout",
          "text": [
            "The fractional and integer parts of x: (0.7600000000000016, 24.0)\n"
          ]
        }
      ]
    },
    {
      "cell_type": "code",
      "metadata": {
        "colab": {
          "base_uri": "https://localhost:8080/"
        },
        "id": "jSR-eMue3nWm",
        "outputId": "bf2c9769-00ec-4e9e-8146-a3e8cbc482cb"
      },
      "source": [
        "'''\n",
        "x ** y => x power y\n",
        "'''\n",
        "x = 2\n",
        "y = 3\n",
        "print(\"x power y is {}\".format(pow(x,y)))"
      ],
      "execution_count": 29,
      "outputs": [
        {
          "output_type": "stream",
          "name": "stdout",
          "text": [
            "x power y is 8\n"
          ]
        }
      ]
    },
    {
      "cell_type": "code",
      "metadata": {
        "colab": {
          "base_uri": "https://localhost:8080/"
        },
        "id": "prhLfrNj4H9h",
        "outputId": "6c2bb6fb-f0c2-4f35-94c7-8abde9ea8cc2"
      },
      "source": [
        "'''\n",
        "Rounding a number\n",
        "'''\n",
        "x = 7.50893640\n",
        "y = 2.8\n",
        "z = 3.3\n",
        "print(\" rounding x = {}\".format(round(x)))\n",
        "print(\" rounding y = {}\".format(round(y)))\n",
        "print(\" rounding z = {}\".format(round(z)))\n",
        "print(\" rounding x to 3 decimal places = {}\".format(round(x,3)))"
      ],
      "execution_count": 30,
      "outputs": [
        {
          "output_type": "stream",
          "name": "stdout",
          "text": [
            " rounding x = 8\n",
            " rounding y = 3\n",
            " rounding z = 3\n",
            " rounding x to 3 decimal places = 7.509\n"
          ]
        }
      ]
    },
    {
      "cell_type": "code",
      "metadata": {
        "colab": {
          "base_uri": "https://localhost:8080/"
        },
        "id": "4znhZxOq4lob",
        "outputId": "6191b693-df04-4c36-8daa-42236d3343fc"
      },
      "source": [
        "'''\n",
        "Square root of x\n",
        "'''\n",
        "x = 25\n",
        "print(\"Square root of x is {}\".format(x))"
      ],
      "execution_count": 31,
      "outputs": [
        {
          "output_type": "stream",
          "name": "stdout",
          "text": [
            "Square root of x is 25\n"
          ]
        }
      ]
    },
    {
      "cell_type": "markdown",
      "metadata": {
        "id": "z-7enZ6v5Erz"
      },
      "source": [
        "# Random number functions"
      ]
    },
    {
      "cell_type": "code",
      "metadata": {
        "id": "TmK-sJps4418"
      },
      "source": [
        "import random"
      ],
      "execution_count": 2,
      "outputs": []
    },
    {
      "cell_type": "code",
      "metadata": {
        "colab": {
          "base_uri": "https://localhost:8080/"
        },
        "id": "XsAZeguO5NQX",
        "outputId": "54fcbcca-348e-47c6-ef64-445790763a57"
      },
      "source": [
        "arr = ['a','b','c']\n",
        "print(\"random choice from array:  {}\".format(random.choice(arr)))"
      ],
      "execution_count": 6,
      "outputs": [
        {
          "output_type": "stream",
          "name": "stdout",
          "text": [
            "choice from array:  c\n"
          ]
        }
      ]
    },
    {
      "cell_type": "markdown",
      "metadata": {
        "id": "D2CeWH1ebnZ6"
      },
      "source": [
        "### random range\n",
        "randrange ([start,] stop [,step])\n",
        "\n",
        "Parameters\n",
        "start − Start point of the range. This would be included in the range.\n",
        "\n",
        "stop − Stop point of the range. This would be excluded from the range.\n",
        "\n",
        "step − Steps to be added in a number to decide a random number.\n",
        "\n",
        "Return Value\n",
        "This method returns a random item from the given range"
      ]
    },
    {
      "cell_type": "code",
      "metadata": {
        "colab": {
          "base_uri": "https://localhost:8080/"
        },
        "id": "jlJSTO2ha_hD",
        "outputId": "6d2f255b-6e1d-4e50-c9d4-cfb5ce8b3093"
      },
      "source": [
        "print(\"Random Range between numbers {} and {} is {}\".format(20,100,random.randrange(20,100,5)))"
      ],
      "execution_count": 7,
      "outputs": [
        {
          "output_type": "stream",
          "name": "stdout",
          "text": [
            "Random Range between numbers 20 and 100 is 60\n"
          ]
        }
      ]
    },
    {
      "cell_type": "code",
      "metadata": {
        "colab": {
          "base_uri": "https://localhost:8080/"
        },
        "id": "agZHNDmWbkdk",
        "outputId": "1fabd9b4-eaaf-477e-c650-1a9c145f40ac"
      },
      "source": [
        "print(\"Random value between 0 and 1 is {}\".format(random.random()))"
      ],
      "execution_count": 8,
      "outputs": [
        {
          "output_type": "stream",
          "name": "stdout",
          "text": [
            "Random value between 0 and 1 is 0.6051176708489643\n"
          ]
        }
      ]
    },
    {
      "cell_type": "code",
      "metadata": {
        "colab": {
          "base_uri": "https://localhost:8080/"
        },
        "id": "uv2AvV-YcvCW",
        "outputId": "de695f5f-6e36-4315-e828-272ba0a20a1b"
      },
      "source": [
        "lst = [20,15,30,50,10]\n",
        "print(\"shuffled list: {}\".format(random.shuffle(lst)))"
      ],
      "execution_count": 11,
      "outputs": [
        {
          "output_type": "stream",
          "name": "stdout",
          "text": [
            "shuffled list: None\n"
          ]
        }
      ]
    },
    {
      "cell_type": "markdown",
      "metadata": {
        "id": "20A_ji3fduqw"
      },
      "source": [
        "Python number method uniform() returns a random float r, such that x is less than or equal to r and r is less than y.\n",
        "\n",
        "uniform(x, y)\n",
        "\n",
        "x − Sets the lower limit of the random float.\n",
        "\n",
        "y − Sets the upper limit of the random float.\n",
        "\n",
        "Return Value:\n",
        "This method returns a floating point number."
      ]
    },
    {
      "cell_type": "code",
      "metadata": {
        "colab": {
          "base_uri": "https://localhost:8080/"
        },
        "id": "9XTu88-1dB29",
        "outputId": "85207df1-050e-4943-d2b3-b61ec594b81e"
      },
      "source": [
        "print(random.uniform(5, 10))"
      ],
      "execution_count": 12,
      "outputs": [
        {
          "output_type": "stream",
          "name": "stdout",
          "text": [
            "7.204453348766142\n"
          ]
        }
      ]
    },
    {
      "cell_type": "markdown",
      "metadata": {
        "id": "DTB5kg5Cd6Pw"
      },
      "source": [
        "# Trigonometric Functions"
      ]
    },
    {
      "cell_type": "code",
      "metadata": {
        "colab": {
          "base_uri": "https://localhost:8080/"
        },
        "id": "JOph8A4Ndfm_",
        "outputId": "5ae0381c-89bd-421c-c8f5-087947d1bf22"
      },
      "source": [
        "import math\n",
        "print (\"acos(0.5) : \",  math.acos(0.5))\n",
        "print (\"acos(0) : \",  math.acos(0))\n",
        "print (\"acos(-1) : \",  math.acos(-1))\n",
        "print (\"acos(1) : \",  math.acos(1))"
      ],
      "execution_count": 15,
      "outputs": [
        {
          "output_type": "stream",
          "name": "stdout",
          "text": [
            "acos(0.5) :  1.0471975511965979\n",
            "acos(0) :  1.5707963267948966\n",
            "acos(-1) :  3.141592653589793\n",
            "acos(1) :  0.0\n"
          ]
        }
      ]
    },
    {
      "cell_type": "code",
      "metadata": {
        "colab": {
          "base_uri": "https://localhost:8080/"
        },
        "id": "MkecBT9ceE1H",
        "outputId": "15d72d2c-e862-4ddc-c6b5-7a1cac4cc3a6"
      },
      "source": [
        "import math\n",
        "print (\"asin(0.5) : \",  math.asin(0.5))\n",
        "print (\"asin(0) : \",  math.asin(0))\n",
        "print (\"asin(-1) : \",  math.asin(-1))\n",
        "print (\"asin(1) : \",  math.asin(1))"
      ],
      "execution_count": 16,
      "outputs": [
        {
          "output_type": "stream",
          "name": "stdout",
          "text": [
            "asin(0.5) :  0.5235987755982989\n",
            "asin(0) :  0.0\n",
            "asin(-1) :  -1.5707963267948966\n",
            "asin(1) :  1.5707963267948966\n"
          ]
        }
      ]
    },
    {
      "cell_type": "code",
      "metadata": {
        "colab": {
          "base_uri": "https://localhost:8080/"
        },
        "id": "t0ue7AKYebNe",
        "outputId": "7d656e17-1a6e-4c27-ae04-d6ae507c71d5"
      },
      "source": [
        "import math\n",
        "print (\"atan(0.5) : \",  math.atan(0.5))\n",
        "print (\"atan(0) : \",  math.atan(0))\n",
        "print (\"atan(-1) : \",  math.atan(-1))\n",
        "print (\"atan(1) : \",  math.atan(1))"
      ],
      "execution_count": 17,
      "outputs": [
        {
          "output_type": "stream",
          "name": "stdout",
          "text": [
            "atan(0.5) :  0.4636476090008061\n",
            "atan(0) :  0.0\n",
            "atan(-1) :  -0.7853981633974483\n",
            "atan(1) :  0.7853981633974483\n"
          ]
        }
      ]
    },
    {
      "cell_type": "code",
      "metadata": {
        "colab": {
          "base_uri": "https://localhost:8080/"
        },
        "id": "Mb4IWTY_ejGV",
        "outputId": "f3ab4298-3f41-4e40-8d6b-e910730fc14c"
      },
      "source": [
        "# Return atan(y / x), in radians.\n",
        "import math\n",
        "print (\"atan2(0.5,1) : \",  math.atan2(0.5,1))\n",
        "print (\"atan2(0,1) : \",  math.atan2(0,1))\n",
        "print (\"atan2(-1,1) : \",  math.atan2(-1,1))\n",
        "print (\"atan2(.5,.5) : \",  math.atan2(.5,.5))"
      ],
      "execution_count": 18,
      "outputs": [
        {
          "output_type": "stream",
          "name": "stdout",
          "text": [
            "atan2(0.5,1) :  0.4636476090008061\n",
            "atan2(0,1) :  0.0\n",
            "atan2(-1,1) :  -0.7853981633974483\n",
            "atan2(.5,.5) :  0.7853981633974483\n"
          ]
        }
      ]
    },
    {
      "cell_type": "code",
      "metadata": {
        "colab": {
          "base_uri": "https://localhost:8080/"
        },
        "id": "626vJDNzerie",
        "outputId": "e750c2f0-dd37-46c7-df18-7acfb3c927ab"
      },
      "source": [
        "import math\n",
        "print (\"cos(0.5) : \",  math.cos(0.5))\n",
        "print (\"cos(0) : \",  math.cos(0))\n",
        "print (\"cos(-1) : \",  math.cos(-1))\n",
        "print (\"cos(1) : \",  math.cos(1))"
      ],
      "execution_count": 19,
      "outputs": [
        {
          "output_type": "stream",
          "name": "stdout",
          "text": [
            "cos(0.5) :  0.8775825618903728\n",
            "cos(0) :  1.0\n",
            "cos(-1) :  0.5403023058681398\n",
            "cos(1) :  0.5403023058681398\n"
          ]
        }
      ]
    },
    {
      "cell_type": "code",
      "metadata": {
        "colab": {
          "base_uri": "https://localhost:8080/"
        },
        "id": "NAK8q-3hereP",
        "outputId": "4a4a06ae-0204-4deb-c74b-56e2773b2dba"
      },
      "source": [
        "# the Euclidean norm, sqrt(x*x + y*y).\n",
        "import math\n",
        "print (\"hypot(0.5,1) : \",  math.hypot(0.5,1))\n",
        "print (\"hypot(0,1) : \",  math.hypot(0,1))\n",
        "print (\"hypot(-1,1) : \",  math.hypot(-1,1))\n",
        "print (\"hypot(.5,.5) : \",  math.hypot(.5,.5))"
      ],
      "execution_count": 20,
      "outputs": [
        {
          "output_type": "stream",
          "name": "stdout",
          "text": [
            "hypot(0.5,1) :  1.118033988749895\n",
            "hypot(0,1) :  1.0\n",
            "hypot(-1,1) :  1.4142135623730951\n",
            "hypot(.5,.5) :  0.7071067811865476\n"
          ]
        }
      ]
    },
    {
      "cell_type": "code",
      "metadata": {
        "colab": {
          "base_uri": "https://localhost:8080/"
        },
        "id": "wfFJ8Vf8erau",
        "outputId": "18009977-4471-4203-8402-39ebc1eab13a"
      },
      "source": [
        "import math\n",
        "print (\"sin(0.5) : \",  math.sin(0.5))\n",
        "print (\"sin(0) : \",  math.sin(0))\n",
        "print (\"sin(-1) : \",  math.sin(-1))\n",
        "print (\"sin(1) : \",  math.sin(1))"
      ],
      "execution_count": 21,
      "outputs": [
        {
          "output_type": "stream",
          "name": "stdout",
          "text": [
            "sin(0.5) :  0.479425538604203\n",
            "sin(0) :  0.0\n",
            "sin(-1) :  -0.8414709848078965\n",
            "sin(1) :  0.8414709848078965\n"
          ]
        }
      ]
    },
    {
      "cell_type": "code",
      "metadata": {
        "colab": {
          "base_uri": "https://localhost:8080/"
        },
        "id": "GT6be62EerCD",
        "outputId": "8813535a-98a0-48df-bf65-41fc61aa255d"
      },
      "source": [
        "import math\n",
        "print (\"tan(0.5) : \",  math.tan(0.5))\n",
        "print (\"tan(0) : \",  math.tan(0))\n",
        "print (\"tan(-1) : \",  math.tan(-1))\n",
        "print (\"tan(1) : \",  math.tan(1))"
      ],
      "execution_count": 22,
      "outputs": [
        {
          "output_type": "stream",
          "name": "stdout",
          "text": [
            "tan(0.5) :  0.5463024898437905\n",
            "tan(0) :  0.0\n",
            "tan(-1) :  -1.5574077246549023\n",
            "tan(1) :  1.5574077246549023\n"
          ]
        }
      ]
    },
    {
      "cell_type": "code",
      "metadata": {
        "id": "I88risl5fdGb"
      },
      "source": [
        "import math\n",
        "print (\"degrees(0.5) : \",  math.degrees(0.5))\n",
        "print (\"degrees(0) : \",  math.degrees(0))\n",
        "print (\"degrees(-1) : \",  math.degrees(-1))\n",
        "print (\"degrees(1) : \",  math.degrees(1))"
      ],
      "execution_count": null,
      "outputs": []
    },
    {
      "cell_type": "code",
      "metadata": {
        "id": "zq6I7cW8fjnX"
      },
      "source": [
        "# Converts angle x from degrees to radians.\n",
        "\n",
        "import math\n",
        "print (\"radians(0.5) : \",  math.radians(0.5))\n",
        "print (\"radians(0) : \",  math.radians(0))\n",
        "print (\"radians(-1) : \",  math.radians(-1))\n",
        "print (\"radians(1) : \",  math.radians(1))"
      ],
      "execution_count": null,
      "outputs": []
    },
    {
      "cell_type": "markdown",
      "metadata": {
        "id": "pEarIb3Kf2vZ"
      },
      "source": [
        "# mathematical Constants"
      ]
    },
    {
      "cell_type": "code",
      "metadata": {
        "colab": {
          "base_uri": "https://localhost:8080/"
        },
        "id": "msW6ro4Sf18t",
        "outputId": "bae3bc47-91b1-4e63-ac94-641e3ef5121d"
      },
      "source": [
        "math.pi"
      ],
      "execution_count": 23,
      "outputs": [
        {
          "output_type": "execute_result",
          "data": {
            "text/plain": [
              "3.141592653589793"
            ]
          },
          "metadata": {},
          "execution_count": 23
        }
      ]
    },
    {
      "cell_type": "code",
      "metadata": {
        "colab": {
          "base_uri": "https://localhost:8080/"
        },
        "id": "TaXArQS2fjj1",
        "outputId": "d4c9bead-e480-4b5e-89e8-7ef45f8b0a58"
      },
      "source": [
        "math.e"
      ],
      "execution_count": 24,
      "outputs": [
        {
          "output_type": "execute_result",
          "data": {
            "text/plain": [
              "2.718281828459045"
            ]
          },
          "metadata": {},
          "execution_count": 24
        }
      ]
    },
    {
      "cell_type": "code",
      "metadata": {
        "id": "mm7ada4nf_nR"
      },
      "source": [
        ""
      ],
      "execution_count": null,
      "outputs": []
    }
  ]
}