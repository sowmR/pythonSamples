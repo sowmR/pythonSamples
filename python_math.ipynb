{
  "nbformat": 4,
  "nbformat_minor": 0,
  "metadata": {
    "colab": {
      "name": "python_math.ipynb",
      "provenance": [],
      "authorship_tag": "ABX9TyPHIK7WVezEfv/hG3RtrwzN",
      "include_colab_link": true
    },
    "kernelspec": {
      "name": "python3",
      "display_name": "Python 3"
    },
    "language_info": {
      "name": "python"
    }
  },
  "cells": [
    {
      "cell_type": "markdown",
      "metadata": {
        "id": "view-in-github",
        "colab_type": "text"
      },
      "source": [
        "<a href=\"https://colab.research.google.com/github/sowmR/pythonSamples/blob/main/python_math.ipynb\" target=\"_parent\"><img src=\"https://colab.research.google.com/assets/colab-badge.svg\" alt=\"Open In Colab\"/></a>"
      ]
    },
    {
      "cell_type": "code",
      "metadata": {
        "id": "hovrOfBMWcCS"
      },
      "source": [
        "#!/usr/bin/python\n",
        "import math"
      ],
      "execution_count": 15,
      "outputs": []
    },
    {
      "cell_type": "code",
      "metadata": {
        "colab": {
          "base_uri": "https://localhost:8080/"
        },
        "id": "7YbBbsELWhCL",
        "outputId": "23858557-6273-4606-f294-a03af758a622"
      },
      "source": [
        "# Exponential\n",
        "\n",
        "X = 20.926\n",
        "H = 2.999802E-04\n",
        "B1 = 0.1738\n",
        "B2 = 0.3156\n",
        "B3 = 0.3347\n",
        "Age=78\n",
        "R = 6.702\n",
        "r0 = B1*Age + B3\n",
        "print(r0)\n",
        "h0 = H * r0\n",
        "print(h0)\n",
        "math.exp(-(h0))"
      ],
      "execution_count": 16,
      "outputs": [
        {
          "output_type": "stream",
          "name": "stdout",
          "text": [
            "13.8911\n",
            "0.00416705495622\n"
          ]
        },
        {
          "output_type": "execute_result",
          "data": {
            "text/plain": [
              "0.9958416151701389"
            ]
          },
          "metadata": {},
          "execution_count": 16
        }
      ]
    },
    {
      "cell_type": "markdown",
      "metadata": {
        "id": "GjMKZyJw1Nrq"
      },
      "source": [
        "# other mathematical functions"
      ]
    },
    {
      "cell_type": "code",
      "metadata": {
        "colab": {
          "base_uri": "https://localhost:8080/"
        },
        "id": "OI41V007XJIs",
        "outputId": "2fdbfb01-0fbd-4ae8-eee3-0d6889bb287b"
      },
      "source": [
        "# The absolute value of x: the (positive) distance between x and zero.\n",
        "x = 23.45\n",
        "y = 12.34\n",
        "print(\"Absolute value of X: {}\".format(abs(x)))\n",
        "print(\"The ceiling of X: {}\".format( math.ceil(x)))\n",
        "# print(\"-1 if x < y, 0 if x == y, or 1 if x > y: {}\".format(cmp( x, y )))\n",
        "print(\"Absolute value of X: {}\".format( math.fabs(x)))\n",
        "print(\"Floor value of X: {}\".format( math.floor(x)))\n",
        "print(\"Natural Log value value of X for X>0: {}\".format( math.log(x)))\n",
        "print(\"Base-10 Log value of X for X>0: {}\".format( math.log10(x)))\n"
      ],
      "execution_count": 20,
      "outputs": [
        {
          "output_type": "stream",
          "name": "stdout",
          "text": [
            "Absolute value of X: 23.45\n",
            "The ceiling of X: 24\n",
            "Absolute value of X: 23.45\n",
            "Floor value of X: 23\n",
            "Natural Log value value of X for X>0: 3.1548704948922883\n",
            "Base-10 Log value of X for X>0: 1.3701428470511021\n"
          ]
        }
      ]
    },
    {
      "cell_type": "code",
      "metadata": {
        "colab": {
          "base_uri": "https://localhost:8080/"
        },
        "id": "55j2X7On1Wov",
        "outputId": "145ac601-f079-4ea3-f703-6bf178ad3d9f"
      },
      "source": [
        "print(\"Max of a list: {}\".format(max(20,15,40)))\n",
        "print(\"Max of a list: {}\".format(max('c','a','f')))"
      ],
      "execution_count": 22,
      "outputs": [
        {
          "output_type": "stream",
          "name": "stdout",
          "text": [
            "Max of a list: 40\n",
            "Max of a list: f\n"
          ]
        }
      ]
    },
    {
      "cell_type": "code",
      "metadata": {
        "colab": {
          "base_uri": "https://localhost:8080/"
        },
        "id": "_WGJMW2O2_5x",
        "outputId": "9cb10776-0303-43fa-bce2-79f6d39189c5"
      },
      "source": [
        "print(\"Min of a list: {}\".format(min(20,15,40)))\n",
        "print(\"Min of a list: {}\".format(min('c','a','f')))"
      ],
      "execution_count": 25,
      "outputs": [
        {
          "output_type": "stream",
          "name": "stdout",
          "text": [
            "Min of a list: 15\n",
            "Min of a list: a\n"
          ]
        }
      ]
    },
    {
      "cell_type": "code",
      "metadata": {
        "colab": {
          "base_uri": "https://localhost:8080/"
        },
        "id": "809qPYoa3PZ7",
        "outputId": "bb4c9512-4213-46ec-e059-270b5d1854ce"
      },
      "source": [
        "'''\n",
        "The fractional and integer parts of x in a two-item tuple. Both parts have the same sign as x. The integer part is returned as a float.\n",
        "'''\n",
        "x = 24.76\n",
        "print(\"The fractional and integer parts of x: {}\".format(math.modf( x )))"
      ],
      "execution_count": 28,
      "outputs": [
        {
          "output_type": "stream",
          "name": "stdout",
          "text": [
            "The fractional and integer parts of x: (0.7600000000000016, 24.0)\n"
          ]
        }
      ]
    },
    {
      "cell_type": "code",
      "metadata": {
        "colab": {
          "base_uri": "https://localhost:8080/"
        },
        "id": "jSR-eMue3nWm",
        "outputId": "bf2c9769-00ec-4e9e-8146-a3e8cbc482cb"
      },
      "source": [
        "'''\n",
        "x ** y => x power y\n",
        "'''\n",
        "x = 2\n",
        "y = 3\n",
        "print(\"x power y is {}\".format(pow(x,y)))"
      ],
      "execution_count": 29,
      "outputs": [
        {
          "output_type": "stream",
          "name": "stdout",
          "text": [
            "x power y is 8\n"
          ]
        }
      ]
    },
    {
      "cell_type": "code",
      "metadata": {
        "colab": {
          "base_uri": "https://localhost:8080/"
        },
        "id": "prhLfrNj4H9h",
        "outputId": "6c2bb6fb-f0c2-4f35-94c7-8abde9ea8cc2"
      },
      "source": [
        "'''\n",
        "Rounding a number\n",
        "'''\n",
        "x = 7.50893640\n",
        "y = 2.8\n",
        "z = 3.3\n",
        "print(\" rounding x = {}\".format(round(x)))\n",
        "print(\" rounding y = {}\".format(round(y)))\n",
        "print(\" rounding z = {}\".format(round(z)))\n",
        "print(\" rounding x to 3 decimal places = {}\".format(round(x,3)))"
      ],
      "execution_count": 30,
      "outputs": [
        {
          "output_type": "stream",
          "name": "stdout",
          "text": [
            " rounding x = 8\n",
            " rounding y = 3\n",
            " rounding z = 3\n",
            " rounding x to 3 decimal places = 7.509\n"
          ]
        }
      ]
    },
    {
      "cell_type": "code",
      "metadata": {
        "colab": {
          "base_uri": "https://localhost:8080/"
        },
        "id": "4znhZxOq4lob",
        "outputId": "6191b693-df04-4c36-8daa-42236d3343fc"
      },
      "source": [
        "'''\n",
        "Square root of x\n",
        "'''\n",
        "x = 25\n",
        "print(\"Square root of x is {}\".format(x))"
      ],
      "execution_count": 31,
      "outputs": [
        {
          "output_type": "stream",
          "name": "stdout",
          "text": [
            "Square root of x is 25\n"
          ]
        }
      ]
    },
    {
      "cell_type": "code",
      "metadata": {
        "id": "TmK-sJps4418"
      },
      "source": [
        ""
      ],
      "execution_count": null,
      "outputs": []
    }
  ]
}