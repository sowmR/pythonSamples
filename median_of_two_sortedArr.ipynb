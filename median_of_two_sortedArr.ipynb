{
  "nbformat": 4,
  "nbformat_minor": 0,
  "metadata": {
    "colab": {
      "name": "python_math.ipynb",
      "provenance": [],
      "authorship_tag": "ABX9TyPL900kpnSz4wwP3FjgUMYa",
      "include_colab_link": true
    },
    "kernelspec": {
      "name": "python3",
      "display_name": "Python 3"
    },
    "language_info": {
      "name": "python"
    }
  },
  "cells": [
    {
      "cell_type": "markdown",
      "metadata": {
        "id": "view-in-github",
        "colab_type": "text"
      },
      "source": [
        "<a href=\"https://colab.research.google.com/github/sowmR/pythonSamples/blob/main/median_of_two_sortedArr.ipynb\" target=\"_parent\"><img src=\"https://colab.research.google.com/assets/colab-badge.svg\" alt=\"Open In Colab\"/></a>"
      ]
    },
    {
      "cell_type": "markdown",
      "source": [
        "Given two sorted arrays nums1 and nums2 of size m and n respectively, return the median of the two sorted arrays.\n",
        "\n",
        "The overall run time complexity should be O(log (m+n)).\n",
        "\n",
        "**Example 1:**\n",
        "\n",
        "Input: nums1 = [1,3], nums2 = [2]\n",
        "\n",
        "Output: 2.00000\n",
        "\n",
        "Explanation: merged array = [1,2,3] and median is 2.\n",
        "\n",
        "**Example 2:**\n",
        "\n",
        "Input: nums1 = [1,2], nums2 = [3,4]\n",
        "\n",
        "Output: 2.50000\n",
        "\n",
        "Explanation: merged array = [1,2,3,4] and median is (2 + 3) / 2 = 2.5.\n",
        " \n",
        "\n",
        "**Constraints:**\n",
        "\n",
        "nums1.length == m\n",
        "\n",
        "nums2.length == n\n",
        "\n",
        "0 <= m <= 1000\n",
        "\n",
        "0 <= n <= 1000\n",
        "\n",
        "1 <= m + n <= 2000\n",
        "\n",
        "-106 <= nums1[i], nums2[i] <= 106"
      ],
      "metadata": {
        "id": "55GPVG4ekhks"
      }
    },
    {
      "cell_type": "code",
      "metadata": {
        "id": "hovrOfBMWcCS"
      },
      "source": [
        "#!/usr/bin/python\n",
        "import math"
      ],
      "execution_count": null,
      "outputs": []
    },
    {
      "cell_type": "code",
      "metadata": {
        "id": "mm7ada4nf_nR"
      },
      "source": [
        ""
      ],
      "execution_count": null,
      "outputs": []
    }
  ]
}