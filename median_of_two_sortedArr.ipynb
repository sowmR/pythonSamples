{
  "nbformat": 4,
  "nbformat_minor": 0,
  "metadata": {
    "colab": {
      "name": "python_math.ipynb",
      "provenance": [],
      "authorship_tag": "ABX9TyPpszLeMDGQ+NrDNgheI7zn",
      "include_colab_link": true
    },
    "kernelspec": {
      "name": "python3",
      "display_name": "Python 3"
    },
    "language_info": {
      "name": "python"
    }
  },
  "cells": [
    {
      "cell_type": "markdown",
      "metadata": {
        "id": "view-in-github",
        "colab_type": "text"
      },
      "source": [
        "<a href=\"https://colab.research.google.com/github/sowmR/pythonSamples/blob/main/median_of_two_sortedArr.ipynb\" target=\"_parent\"><img src=\"https://colab.research.google.com/assets/colab-badge.svg\" alt=\"Open In Colab\"/></a>"
      ]
    },
    {
      "cell_type": "markdown",
      "source": [
        "Given two sorted arrays nums1 and nums2 of size m and n respectively, return the median of the two sorted arrays.\n",
        "\n",
        "The overall run time complexity should be O(log (m+n)).\n",
        "\n",
        "**Example 1:**\n",
        "\n",
        "Input: nums1 = [1,3], nums2 = [2]\n",
        "\n",
        "Output: 2.00000\n",
        "\n",
        "Explanation: merged array = [1,2,3] and median is 2.\n",
        "\n",
        "**Example 2:**\n",
        "\n",
        "Input: nums1 = [1,2], nums2 = [3,4]\n",
        "\n",
        "Output: 2.50000\n",
        "\n",
        "Explanation: merged array = [1,2,3,4] and median is (2 + 3) / 2 = 2.5.\n",
        " \n",
        "\n",
        "**Constraints:**\n",
        "\n",
        "nums1.length == m\n",
        "\n",
        "nums2.length == n\n",
        "\n",
        "0 <= m <= 1000\n",
        "\n",
        "0 <= n <= 1000\n",
        "\n",
        "1 <= m + n <= 2000\n",
        "\n",
        "-106 <= nums1[i], nums2[i] <= 106"
      ],
      "metadata": {
        "id": "55GPVG4ekhks"
      }
    },
    {
      "cell_type": "code",
      "metadata": {
        "id": "hovrOfBMWcCS"
      },
      "source": [
        "#!/usr/bin/python\n",
        "import math"
      ],
      "execution_count": 2,
      "outputs": []
    },
    {
      "cell_type": "code",
      "metadata": {
        "id": "mm7ada4nf_nR"
      },
      "source": [
        "def bubbleSort(givenList):\n",
        "    for i in range(len(givenList)-1,0,-1):\n",
        "        for j in range(i):\n",
        "            if givenList[j]> givenList[j+1]:\n",
        "                tmp = givenList[j]\n",
        "                givenList[j]= givenList[j+1]\n",
        "                givenList[j+1]= tmp\n",
        "    return givenList\n",
        "\n",
        "def findMedian(arr1, arr2):\n",
        "  sortedArr=arr1.copy()\n",
        "  sortedArr.extend(arr2)\n",
        "  sortedArr = bubbleSort(sortedArr)\n",
        "  iseven = len(sortedArr)%2 ==0\n",
        "  medianIndex = int(len(sortedArr)/2)\n",
        "  if iseven:\n",
        "    return (sortedArr[medianIndex-1] +sortedArr[medianIndex])/2\n",
        "  else:\n",
        "    return sortedArr[medianIndex]"
      ],
      "execution_count": 12,
      "outputs": []
    },
    {
      "cell_type": "code",
      "source": [
        "arr1 = [1,5,3,7,11,18]\n",
        "arr2 = [2,9,12,0]\n",
        "print(findMedian(arr1,arr2))"
      ],
      "metadata": {
        "colab": {
          "base_uri": "https://localhost:8080/"
        },
        "id": "tKcz32xnmHGy",
        "outputId": "9bdad6c1-b89e-4bbf-fccf-a93fe294a121"
      },
      "execution_count": 13,
      "outputs": [
        {
          "output_type": "stream",
          "name": "stdout",
          "text": [
            "6.0\n"
          ]
        }
      ]
    },
    {
      "cell_type": "code",
      "source": [
        ""
      ],
      "metadata": {
        "id": "XI0Lj9NimQ62"
      },
      "execution_count": null,
      "outputs": []
    }
  ]
}