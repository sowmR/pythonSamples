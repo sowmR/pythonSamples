{
  "nbformat": 4,
  "nbformat_minor": 0,
  "metadata": {
    "colab": {
      "name": "Python codeSamples.ipynb",
      "provenance": [],
      "collapsed_sections": [],
      "authorship_tag": "ABX9TyN4PfeFNZWnw27oGSD4QtdZ",
      "include_colab_link": true
    },
    "kernelspec": {
      "name": "python3",
      "display_name": "Python 3"
    },
    "language_info": {
      "name": "python"
    }
  },
  "cells": [
    {
      "cell_type": "markdown",
      "metadata": {
        "id": "view-in-github",
        "colab_type": "text"
      },
      "source": [
        "<a href=\"https://colab.research.google.com/github/sowmR/pythonSamples/blob/main/Max_buildingHeight.ipynb\" target=\"_parent\"><img src=\"https://colab.research.google.com/assets/colab-badge.svg\" alt=\"Open In Colab\"/></a>"
      ]
    },
    {
      "cell_type": "markdown",
      "metadata": {
        "id": "lo6oaVlFg_uP"
      },
      "source": [
        "## Maximum building height\n",
        "\n",
        "You want to build n new buildings in a city. The new buildings will be built in a line and are labeled from 1 to n.\n",
        "\n",
        "However, there are city restrictions on the heights of the new buildings:\n",
        "\n",
        "The height of each building must be a non-negative integer.\n",
        "\n",
        "The height of the first building must be 0.\n",
        "\n",
        "The height difference between any two adjacent buildings cannot exceed 1.\n",
        "\n",
        "Additionally, there are city restrictions on the maximum height of specific buildings. These restrictions are given as a 2D integer array restrictions where restrictions[i] = [idi, maxHeighti] indicates that building idi must have a height less than or equal to maxHeighti.\n",
        "\n",
        "It is guaranteed that each building will appear at most once in restrictions, and building 1 will not be in restrictions.\n",
        "\n",
        "Return the maximum possible height of the tallest building.\n",
        "\n",
        "\n",
        "**Constraints:**\n",
        "\n",
        "2 <= n <= 10^9\n",
        "\n",
        "0 <= restrictions.length <= min(n - 1, 10^5)\n",
        "\n",
        "2 <= idi <= n\n",
        "\n",
        "idi is unique.\n",
        "\n",
        "0 <= maxHeighti <= 109"
      ]
    },
    {
      "cell_type": "markdown",
      "source": [
        "### Example -1:\n",
        "\n",
        "Input: n = 5, restrictions = [[2,1],[4,1]]\n",
        "\n",
        "Output: 2\n",
        "\n",
        "We can build the buildings with heights [0,1,2,1,2], \n",
        "\n",
        "and the tallest building has a height of 2."
      ],
      "metadata": {
        "id": "Se8Xdu7eWmYa"
      }
    },
    {
      "cell_type": "markdown",
      "source": [
        "### Example-2:\n",
        "\n",
        "Input: n = 6, restrictions = []\n",
        "\n",
        "Output: 5\n",
        "\n",
        "\n",
        "We can build the buildings with heights [0,1,2,3,4,5], \n",
        "\n",
        "and the tallest building has a height of 5.\n"
      ],
      "metadata": {
        "id": "QophfbLKWvg5"
      }
    },
    {
      "cell_type": "markdown",
      "source": [
        "### Example-3:\n",
        "Input: n = 10, restrictions = [[5,3],[2,5],[7,4],[10,3]]\n",
        "\n",
        "Output: 5\n",
        "\n",
        "\n",
        "We can build the buildings with heights [0,1,2,3,3,4,4,5,4,3], \n",
        "\n",
        "and the tallest building has a height of 5."
      ],
      "metadata": {
        "id": "Wu-mq6ZdXZS6"
      }
    },
    {
      "cell_type": "code",
      "source": [
        "# time: O(n**2)\n",
        "# space: O(1)\n",
        "def bubbleSort(givenList):\n",
        "    for i in range(len(givenList)-1,0,-1):\n",
        "        for j in range(i):\n",
        "            if givenList[j]> givenList[j+1]:\n",
        "                tmp = givenList[j]\n",
        "                givenList[j]= givenList[j+1]\n",
        "                givenList[j+1]= tmp\n",
        "    return givenList"
      ],
      "metadata": {
        "id": "ExUETTD_eJsN"
      },
      "execution_count": 10,
      "outputs": []
    },
    {
      "cell_type": "code",
      "source": [
        "def searchRestriction(restrictions,buildingNo):\n",
        "    for r in restrictions:\n",
        "        if r[0]== buildingNo:\n",
        "            return r[1]\n",
        "    return None\n",
        "    \n",
        "def maxBuilding( n, restrictions):\n",
        "    building_heights = [[1,0]]\n",
        "    restrictions = bubbleSort(restrictions)\n",
        "    print(restrictions)\n",
        "    maxHeight =0\n",
        "    for i in range(1,n):\n",
        "        rest = searchRestriction(restrictions,i+1)\n",
        "        prev = building_heights[i-1][1]\n",
        "        if (rest is not None):\n",
        "            rest = min(prev+1,rest)\n",
        "        else:\n",
        "            rest = prev+1\n",
        "        building_heights.append([i+1,rest])\n",
        "    print(building_heights)\n",
        "    for i in range(1,n-1):\n",
        "        # compare the building heights and fix \n",
        "        prev = building_heights[i-1][1]\n",
        "        curr = building_heights[i][1]\n",
        "        nextH = building_heights[i+1][1]\n",
        "        print(\"({},{},{})\".format(prev,curr,nextH))\n",
        "        if (nextH-curr)< -1:\n",
        "            curr = nextH+1\n",
        "        building_heights[i][1]=curr\n",
        "        print(curr)\n",
        "        if curr>maxHeight:\n",
        "            maxHeight = curr\n",
        "    if building_heights[n-1][1]>maxHeight:\n",
        "        maxHeight = building_heights[n-1][1]\n",
        "    print(building_heights)\n",
        "    return maxHeight"
      ],
      "metadata": {
        "id": "r18tgDWvV77t"
      },
      "execution_count": 31,
      "outputs": []
    },
    {
      "cell_type": "code",
      "source": [
        "def maxBuilding1(n,restrictions):\n",
        "  if not restrictions:\n",
        "    return n-1\n",
        "  restrictions.sort()\n",
        "  print(restrictions)\n",
        "  # expected max height of the next restrictions, since the consequent building can differ by 1 max.\n",
        "  for i in reversed(range(len(restrictions)-1)): \n",
        "    distance = restrictions[i+1][1]- restrictions[i][1]\n",
        "    eh = restrictions[i][1]+distance\n",
        "    restrictions[i+1][1] = min(restrictions[i+1][1], eh)\n",
        "    print(\"{}=> {} => min({},{}+{}-{}) => {}\".format(i,restrictions[i], restrictions[i][1],restrictions[i+1][1],restrictions[i+1][0],restrictions[i][0],restrictions[i+1] ))\n",
        "\n",
        "  ans = 0 \n",
        "  for i in range(len(restrictions)-1): \n",
        "    distance = restrictions[i+1][1]- restrictions[i][1]\n",
        "    eh = restrictions[i][1]+distance\n",
        "    restrictions[i+1][1] = min(restrictions[i+1][1], eh)\n",
        "    print(\"{}=> {} => min({},{}+{}-{}) => {}\".format(i,restrictions[i], restrictions[i][1],restrictions[i+1][1],restrictions[i+1][0],restrictions[i][0],restrictions[i+1] ))\n",
        "  return 1\n"
      ],
      "metadata": {
        "id": "dQeF0pCo3Spt"
      },
      "execution_count": 7,
      "outputs": []
    },
    {
      "cell_type": "code",
      "source": [
        "n = 10\n",
        "restrictions = [[8,5],[9,0],[6,2],[4,0],[3,2],[10,0],[5,3],[7,3],[2,4]]\n",
        "maxBuilding1(n,restrictions)"
      ],
      "metadata": {
        "colab": {
          "base_uri": "https://localhost:8080/"
        },
        "id": "UbFIemfacJ1h",
        "outputId": "c9679e9f-a4b9-4404-f5b3-f815751059c4"
      },
      "execution_count": 8,
      "outputs": [
        {
          "output_type": "stream",
          "name": "stdout",
          "text": [
            "[[2, 4], [3, 2], [4, 0], [5, 3], [6, 2], [7, 3], [8, 5], [9, 0], [10, 0]]\n",
            "7=> [9, 0] => min(0,0+10-9) => [10, 0]\n",
            "6=> [8, 5] => min(5,0+9-8) => [9, 0]\n",
            "5=> [7, 3] => min(3,5+8-7) => [8, 5]\n",
            "4=> [6, 2] => min(2,3+7-6) => [7, 3]\n",
            "3=> [5, 3] => min(3,2+6-5) => [6, 2]\n",
            "2=> [4, 0] => min(0,3+5-4) => [5, 3]\n",
            "1=> [3, 2] => min(2,0+4-3) => [4, 0]\n",
            "0=> [2, 4] => min(4,2+3-2) => [3, 2]\n",
            "0=> [2, 4] => min(4,2+3-2) => [3, 2]\n",
            "1=> [3, 2] => min(2,0+4-3) => [4, 0]\n",
            "2=> [4, 0] => min(0,3+5-4) => [5, 3]\n",
            "3=> [5, 3] => min(3,2+6-5) => [6, 2]\n",
            "4=> [6, 2] => min(2,3+7-6) => [7, 3]\n",
            "5=> [7, 3] => min(3,5+8-7) => [8, 5]\n",
            "6=> [8, 5] => min(5,0+9-8) => [9, 0]\n",
            "7=> [9, 0] => min(0,0+10-9) => [10, 0]\n"
          ]
        },
        {
          "output_type": "execute_result",
          "data": {
            "text/plain": [
              "1"
            ]
          },
          "metadata": {},
          "execution_count": 8
        }
      ]
    },
    {
      "cell_type": "code",
      "source": [
        "# Solution-1\n",
        "\n",
        "def Solution1(n, restrictions):\n",
        "    if not restrictions:\n",
        "        return n - 1\n",
        "    restrictions.append([1, 0])  # Add the restriction for the initial position\n",
        "    restrictions.sort(key=lambda x: x[1] + x[0])  # Sort by increasing i + h\n",
        "    idx = 0  # The index in the restrictions array\n",
        "    max_height = 0\n",
        "    while idx < len(restrictions):\n",
        "        pos, h = restrictions[idx]\n",
        "        idx += 1\n",
        "        while idx < len(restrictions) and restrictions[idx][1] - restrictions[idx][0] >= h - pos:\n",
        "    # skip the next restriction if it is \"above\" the line starting from the current one\n",
        "            idx += 1\n",
        "        if idx == len(restrictions):\n",
        "    # Handles the last restriction: fill the line until the last position at n\n",
        "            max_height = max(max_height, h + n - pos)\n",
        "            break\n",
        "        next_pos, next_h = restrictions[idx]\n",
        "  # A bit of maths gives us the formula for the maximum height between two consecutive\n",
        "  # restrictions\n",
        "        max_height = max(max_height, (h + next_h + next_pos - pos) // 2)\n",
        "    return max_height"
      ],
      "metadata": {
        "id": "4HM1OAJNcYh3"
      },
      "execution_count": 11,
      "outputs": []
    },
    {
      "cell_type": "code",
      "source": [
        "# solution-2\n",
        "def Solution2(n, restrictions):\n",
        "    restrictions.extend([[1, 0], [n, n-1]])\n",
        "    restrictions.sort()\n",
        "    \n",
        "    for i in reversed(range(len(restrictions)-1)): \n",
        "        restrictions[i][1] = min(restrictions[i][1], restrictions[i+1][1] + restrictions[i+1][0] - restrictions[i][0])\n",
        "    \n",
        "    ans = 0 \n",
        "    for i in range(1, len(restrictions)): \n",
        "        restrictions[i][1] = min(restrictions[i][1], restrictions[i-1][1] + restrictions[i][0] - restrictions[i-1][0])\n",
        "        ans = max(ans, (restrictions[i-1][1] + restrictions[i][0] - restrictions[i-1][0] + restrictions[i][1])//2)\n",
        "    return ans "
      ],
      "metadata": {
        "id": "EKkeQzSxzFOe"
      },
      "execution_count": 12,
      "outputs": []
    },
    {
      "cell_type": "code",
      "source": [
        "n = 10\n",
        "restrictions = [[8,5],[9,0],[6,2],[4,0],[3,2],[10,0],[5,3],[7,3],[2,4]]\n",
        "Solution1(n,restrictions)"
      ],
      "metadata": {
        "id": "zUq-GEmdSezN",
        "outputId": "f08a766d-ea17-42a4-f785-b559f8bcb51c",
        "colab": {
          "base_uri": "https://localhost:8080/"
        }
      },
      "execution_count": 15,
      "outputs": [
        {
          "output_type": "execute_result",
          "data": {
            "text/plain": [
              "2"
            ]
          },
          "metadata": {},
          "execution_count": 15
        }
      ]
    },
    {
      "cell_type": "code",
      "source": [
        ""
      ],
      "metadata": {
        "id": "JBUxNHYpSrNW"
      },
      "execution_count": null,
      "outputs": []
    }
  ]
}