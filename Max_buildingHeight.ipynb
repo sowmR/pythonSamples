{
  "nbformat": 4,
  "nbformat_minor": 0,
  "metadata": {
    "colab": {
      "name": "Python codeSamples.ipynb",
      "provenance": [],
      "collapsed_sections": [],
      "authorship_tag": "ABX9TyMl/LH08SY9MDFPUawctD7B",
      "include_colab_link": true
    },
    "kernelspec": {
      "name": "python3",
      "display_name": "Python 3"
    },
    "language_info": {
      "name": "python"
    }
  },
  "cells": [
    {
      "cell_type": "markdown",
      "metadata": {
        "id": "view-in-github",
        "colab_type": "text"
      },
      "source": [
        "<a href=\"https://colab.research.google.com/github/sowmR/pythonSamples/blob/main/Max_buildingHeight.ipynb\" target=\"_parent\"><img src=\"https://colab.research.google.com/assets/colab-badge.svg\" alt=\"Open In Colab\"/></a>"
      ]
    },
    {
      "cell_type": "markdown",
      "metadata": {
        "id": "lo6oaVlFg_uP"
      },
      "source": [
        "## Maximum building height\n",
        "\n",
        "You want to build n new buildings in a city. The new buildings will be built in a line and are labeled from 1 to n.\n",
        "\n",
        "However, there are city restrictions on the heights of the new buildings:\n",
        "\n",
        "The height of each building must be a non-negative integer.\n",
        "\n",
        "The height of the first building must be 0.\n",
        "\n",
        "The height difference between any two adjacent buildings cannot exceed 1.\n",
        "\n",
        "Additionally, there are city restrictions on the maximum height of specific buildings. These restrictions are given as a 2D integer array restrictions where restrictions[i] = [idi, maxHeighti] indicates that building idi must have a height less than or equal to maxHeighti.\n",
        "\n",
        "It is guaranteed that each building will appear at most once in restrictions, and building 1 will not be in restrictions.\n",
        "\n",
        "Return the maximum possible height of the tallest building.\n"
      ]
    },
    {
      "cell_type": "code",
      "source": [
        "def searchRestriction(restrictions,buildingNo):\n",
        "        for r in restrictions:\n",
        "            if r[0]== buildingNo:\n",
        "                return r[1]\n",
        "        return None\n",
        "    \n",
        "def maxBuilding( n: int, restrictions: List[List[int]]) -> int:\n",
        "    building_heights = []\n",
        "    for i in range(n):\n",
        "        rest = searchRestriction(restrictions,i+1)\n",
        "        building_heights.append([i+1,min(i,rest)])\n",
        "    \n",
        "#         for i in range(1,n-1):\n",
        "#             previousHeight = building_heights[i-1][1]\n",
        "#             currentHeight = previousHeight+1\n",
        "#             # check restriction\n",
        "#             if rest is not None:\n",
        "            \n",
        "#             building_heights.append([i+1,currentHeight])\n",
        "    print(building_heights)\n",
        "    return n"
      ],
      "metadata": {
        "id": "r18tgDWvV77t"
      },
      "execution_count": null,
      "outputs": []
    }
  ]
}