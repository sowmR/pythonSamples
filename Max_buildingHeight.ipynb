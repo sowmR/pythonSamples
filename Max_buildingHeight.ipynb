{
  "nbformat": 4,
  "nbformat_minor": 0,
  "metadata": {
    "colab": {
      "name": "Python codeSamples.ipynb",
      "provenance": [],
      "collapsed_sections": [],
      "authorship_tag": "ABX9TyN90PgwDykpvGXcNZfeMzqW",
      "include_colab_link": true
    },
    "kernelspec": {
      "name": "python3",
      "display_name": "Python 3"
    },
    "language_info": {
      "name": "python"
    }
  },
  "cells": [
    {
      "cell_type": "markdown",
      "metadata": {
        "id": "view-in-github",
        "colab_type": "text"
      },
      "source": [
        "<a href=\"https://colab.research.google.com/github/sowmR/pythonSamples/blob/main/Max_buildingHeight.ipynb\" target=\"_parent\"><img src=\"https://colab.research.google.com/assets/colab-badge.svg\" alt=\"Open In Colab\"/></a>"
      ]
    },
    {
      "cell_type": "markdown",
      "metadata": {
        "id": "lo6oaVlFg_uP"
      },
      "source": [
        "## Maximum building height\n",
        "\n",
        "You want to build n new buildings in a city. The new buildings will be built in a line and are labeled from 1 to n.\n",
        "\n",
        "However, there are city restrictions on the heights of the new buildings:\n",
        "\n",
        "The height of each building must be a non-negative integer.\n",
        "\n",
        "The height of the first building must be 0.\n",
        "\n",
        "The height difference between any two adjacent buildings cannot exceed 1.\n",
        "\n",
        "Additionally, there are city restrictions on the maximum height of specific buildings. These restrictions are given as a 2D integer array restrictions where restrictions[i] = [idi, maxHeighti] indicates that building idi must have a height less than or equal to maxHeighti.\n",
        "\n",
        "It is guaranteed that each building will appear at most once in restrictions, and building 1 will not be in restrictions.\n",
        "\n",
        "Return the maximum possible height of the tallest building.\n"
      ]
    },
    {
      "cell_type": "markdown",
      "source": [
        "### Example -1:\n",
        "\n",
        "Input: n = 5, restrictions = [[2,1],[4,1]]\n",
        "\n",
        "Output: 2\n",
        "\n",
        "We can build the buildings with heights [0,1,2,1,2], \n",
        "\n",
        "and the tallest building has a height of 2."
      ],
      "metadata": {
        "id": "Se8Xdu7eWmYa"
      }
    },
    {
      "cell_type": "markdown",
      "source": [
        "### Example-2:\n",
        "\n",
        "Input: n = 6, restrictions = []\n",
        "\n",
        "Output: 5\n",
        "\n",
        "\n",
        "We can build the buildings with heights [0,1,2,3,4,5], \n",
        "\n",
        "and the tallest building has a height of 5.\n"
      ],
      "metadata": {
        "id": "QophfbLKWvg5"
      }
    },
    {
      "cell_type": "markdown",
      "source": [
        "### Example-3:\n",
        "Input: n = 10, restrictions = [[5,3],[2,5],[7,4],[10,3]]\n",
        "\n",
        "Output: 5\n",
        "\n",
        "\n",
        "We can build the buildings with heights [0,1,2,3,3,4,4,5,4,3], \n",
        "\n",
        "and the tallest building has a height of 5."
      ],
      "metadata": {
        "id": "Wu-mq6ZdXZS6"
      }
    },
    {
      "cell_type": "code",
      "source": [
        "# time: O(n**2)\n",
        "# space: O(1)\n",
        "def bubbleSort(givenList):\n",
        "    for i in range(len(givenList)-1,0,-1):\n",
        "        for j in range(i):\n",
        "            if givenList[j]> givenList[j+1]:\n",
        "                tmp = givenList[j]\n",
        "                givenList[j]= givenList[j+1]\n",
        "                givenList[j+1]= tmp\n",
        "    return givenList"
      ],
      "metadata": {
        "id": "ExUETTD_eJsN"
      },
      "execution_count": 10,
      "outputs": []
    },
    {
      "cell_type": "code",
      "source": [
        "def searchRestriction(restrictions,buildingNo):\n",
        "    for r in restrictions:\n",
        "        if r[0]== buildingNo:\n",
        "            return r[1]\n",
        "    return None\n",
        "    \n",
        "def maxBuilding( n, restrictions):\n",
        "    building_heights = [[1,0]]\n",
        "    restrictions = bubbleSort(restrictions)\n",
        "    print(restrictions)\n",
        "    maxHeight =0\n",
        "    for i in range(1,n):\n",
        "        rest = searchRestriction(restrictions,i+1)\n",
        "        prev = building_heights[i-1][1]\n",
        "        if (rest is not None):\n",
        "            rest = min(i,rest)\n",
        "        else:\n",
        "            rest = prev+1\n",
        "        building_heights.append([i+1,rest])\n",
        "    for i in range(1,n-1):\n",
        "        # compare the building heights and fix \n",
        "        prev = building_heights[i-1][1]\n",
        "        curr = building_heights[i][1]\n",
        "        nextH = building_heights[i+1][1]\n",
        "        if (nextH-curr)< -1:\n",
        "            curr = prev - 1\n",
        "        building_heights[i][1]=curr\n",
        "        if curr>maxHeight:\n",
        "            maxHeight = curr\n",
        "    if building_heights[n-1][1]>maxHeight:\n",
        "        maxHeight = building_heights[n-1][1]\n",
        "    print(building_heights)\n",
        "    return maxHeight"
      ],
      "metadata": {
        "id": "r18tgDWvV77t"
      },
      "execution_count": 19,
      "outputs": []
    },
    {
      "cell_type": "code",
      "source": [
        "n = 10\n",
        "restrictions = [[8,5],[9,0],[6,2],[4,0],[3,2],[10,0],[5,3],[7,3],[2,4]]\n",
        "maxBuilding(n,restrictions)"
      ],
      "metadata": {
        "id": "UbFIemfacJ1h",
        "outputId": "e6b0c758-ab8c-4a46-f135-6a13ffe6ef01",
        "colab": {
          "base_uri": "https://localhost:8080/"
        }
      },
      "execution_count": 20,
      "outputs": [
        {
          "output_type": "stream",
          "name": "stdout",
          "text": [
            "[[2, 4], [3, 2], [4, 0], [5, 3], [6, 2], [7, 3], [8, 5], [9, 0], [10, 0]]\n",
            "[[0, 0], [2, 1], [3, 0], [4, 0], [5, 3], [6, 2], [7, 3], [8, 2], [9, 0], [10, 0]]\n"
          ]
        },
        {
          "output_type": "execute_result",
          "data": {
            "text/plain": [
              "3"
            ]
          },
          "metadata": {},
          "execution_count": 20
        }
      ]
    },
    {
      "cell_type": "code",
      "source": [
        ""
      ],
      "metadata": {
        "id": "4HM1OAJNcYh3"
      },
      "execution_count": null,
      "outputs": []
    }
  ]
}