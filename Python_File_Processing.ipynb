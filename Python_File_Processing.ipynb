{
  "nbformat": 4,
  "nbformat_minor": 0,
  "metadata": {
    "colab": {
      "name": "Python File Processing.ipynb",
      "provenance": [],
      "collapsed_sections": [],
      "authorship_tag": "ABX9TyPRuK5LQHq6JwHzu2khIB4b",
      "include_colab_link": true
    },
    "kernelspec": {
      "name": "python3",
      "display_name": "Python 3"
    },
    "language_info": {
      "name": "python"
    }
  },
  "cells": [
    {
      "cell_type": "markdown",
      "metadata": {
        "id": "view-in-github",
        "colab_type": "text"
      },
      "source": [
        "<a href=\"https://colab.research.google.com/github/sowmR/pythonSamples/blob/main/Python_File_Processing.ipynb\" target=\"_parent\"><img src=\"https://colab.research.google.com/assets/colab-badge.svg\" alt=\"Open In Colab\"/></a>"
      ]
    },
    {
      "cell_type": "code",
      "metadata": {
        "id": "sIynZjcdphXJ"
      },
      "source": [
        "import os, shutil\n",
        "from pathlib import Path"
      ],
      "execution_count": 4,
      "outputs": []
    },
    {
      "cell_type": "markdown",
      "metadata": {
        "id": "JsL1XT1MrQ8a"
      },
      "source": [
        "## List all sub-Directories under a folder."
      ]
    },
    {
      "cell_type": "code",
      "metadata": {
        "id": "4-PQ4nRypmvt"
      },
      "source": [
        "# Method - 1: using pathlib\n",
        "def listDirMethod1(rootdir):\n",
        "    for path in Path(rootdir).iterdir():\n",
        "        if path.is_dir():\n",
        "            print(path)\n",
        "            listdirectories(path)"
      ],
      "execution_count": 3,
      "outputs": []
    },
    {
      "cell_type": "code",
      "metadata": {
        "id": "ECwuXSzGrJmb"
      },
      "source": [
        "# Method - 2: using os.walk() method\n",
        "\n",
        "def listDirMethod2(rootdir):\n",
        "  for rootdir, dirs, files in os.walk(rootdir):\n",
        "    for subdir in dirs:\n",
        "        print(os.path.join(rootdir, subdir))"
      ],
      "execution_count": null,
      "outputs": []
    },
    {
      "cell_type": "code",
      "metadata": {
        "id": "YErN-eRvr_yS"
      },
      "source": [
        "# Method - 3:  using os.scandir() method\n",
        "def listDirMethod3(rootdir):\n",
        "  for it in os.scandir(rootdir):\n",
        "      if it.is_dir():\n",
        "          print(it.path)\n",
        "          listdirs(it)"
      ],
      "execution_count": null,
      "outputs": []
    },
    {
      "cell_type": "code",
      "metadata": {
        "id": "w9UFzorAsPHK"
      },
      "source": [
        "# Method - 4: using os.listdir() method\n",
        "def listDirMethod4(rootdir):\n",
        "  for file in os.listdir(rootdir):\n",
        "        d = os.path.join(rootdir, file)\n",
        "        if os.path.isdir(d):\n",
        "            print(d)\n",
        "            listdirs(d)"
      ],
      "execution_count": null,
      "outputs": []
    },
    {
      "cell_type": "markdown",
      "metadata": {
        "id": "RInCALXNskuL"
      },
      "source": [
        "## Create, delete folder\n"
      ]
    },
    {
      "cell_type": "code",
      "metadata": {
        "id": "HIcojb5Zs3NN"
      },
      "source": [
        "def deleteFolder (directory):\n",
        "    if os.path.exists(directory) == True:\n",
        "      shutil.rmtree(directory)"
      ],
      "execution_count": 6,
      "outputs": []
    },
    {
      "cell_type": "code",
      "metadata": {
        "id": "DCUxmfMUsnrf"
      },
      "source": [
        "def createEmptyFolder (directory):\n",
        "    if os.path.exists(directory) == True:\n",
        "      deleteFolder(directory)  # delete the existing folder before creating the folder\n",
        "    os.makedirs(directory)"
      ],
      "execution_count": 7,
      "outputs": []
    },
    {
      "cell_type": "code",
      "metadata": {
        "id": "MnLjX_MotXB9"
      },
      "source": [
        ""
      ],
      "execution_count": null,
      "outputs": []
    }
  ]
}