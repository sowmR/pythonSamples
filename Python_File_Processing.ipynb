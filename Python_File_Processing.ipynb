{
  "nbformat": 4,
  "nbformat_minor": 0,
  "metadata": {
    "colab": {
      "name": "Python File Processing.ipynb",
      "provenance": [],
      "collapsed_sections": [],
      "authorship_tag": "ABX9TyPQ3pgIWUhw0ZzmimqTSUPP",
      "include_colab_link": true
    },
    "kernelspec": {
      "name": "python3",
      "display_name": "Python 3"
    },
    "language_info": {
      "name": "python"
    }
  },
  "cells": [
    {
      "cell_type": "markdown",
      "metadata": {
        "id": "view-in-github",
        "colab_type": "text"
      },
      "source": [
        "<a href=\"https://colab.research.google.com/github/sowmR/pythonSamples/blob/main/Python_File_Processing.ipynb\" target=\"_parent\"><img src=\"https://colab.research.google.com/assets/colab-badge.svg\" alt=\"Open In Colab\"/></a>"
      ]
    },
    {
      "cell_type": "code",
      "metadata": {
        "id": "sIynZjcdphXJ"
      },
      "source": [
        "import os"
      ],
      "execution_count": 1,
      "outputs": []
    },
    {
      "cell_type": "code",
      "metadata": {
        "id": "4-PQ4nRypmvt"
      },
      "source": [
        "# the following function will list all the subfolders in a directory.\n",
        "def listdirectories(rootdir):\n",
        "    from pathlib import Path\n",
        "    for path in Path(rootdir).iterdir():\n",
        "        if path.is_dir():\n",
        "            print(path)\n",
        "            listdirectories(path)"
      ],
      "execution_count": null,
      "outputs": []
    }
  ]
}